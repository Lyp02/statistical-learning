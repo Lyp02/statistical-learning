{
 "cells": [
  {
   "cell_type": "code",
   "execution_count": 1,
   "metadata": {},
   "outputs": [
    {
     "data": {
      "text/plain": [
       "'\\nHMM\\n'"
      ]
     },
     "execution_count": 1,
     "metadata": {},
     "output_type": "execute_result"
    }
   ],
   "source": [
    "\"\"\"\n",
    "HMM\n",
    "\"\"\""
   ]
  },
  {
   "cell_type": "code",
   "execution_count": 9,
   "metadata": {},
   "outputs": [],
   "source": [
    "%matplotlib inline\n",
    "import numpy as np\n",
    "import matplotlib.pyplot as plt\n"
   ]
  },
  {
   "cell_type": "code",
   "execution_count": 245,
   "metadata": {},
   "outputs": [],
   "source": [
    "def random_pick(somelist,probes):\n",
    "    val =np.random.uniform(0,1);\n",
    "    N =len(probes)\n",
    "    cum =0.0\n",
    "    for i in range(N):\n",
    "        cum +=probes[i]\n",
    "        if(cum>=val):\n",
    "            return somelist[i]"
   ]
  },
  {
   "cell_type": "code",
   "execution_count": 246,
   "metadata": {},
   "outputs": [],
   "source": [
    "Q =np.array([0,1,2,3],dtype=int)\n",
    "V =np.array([0,1],dtype=int)\n",
    "pi =np.array([0.25,0.25,0.25,0.25],dtype=float)\n",
    "T =10\n",
    "A =np.array([[0,1.0,0,0],[0.4,0,0.6,0],[0,0.4,0,0.6],[0,0,0.5,0.5]],dtype=float)\n",
    "B =np.array([[0.5,0.5],[0.3,0.7],[0.6,0.4],[0.8,0.2]],dtype=float)"
   ]
  },
  {
   "cell_type": "code",
   "execution_count": 280,
   "metadata": {},
   "outputs": [],
   "source": [
    "class HMM(object):\n",
    "    def __init__(self,Q=None,V=None,pi=None,A=None,B=None):\n",
    "        self.Q =Q\n",
    "        self.V =V\n",
    "        self.pi =pi\n",
    "        self.A=A\n",
    "        self.B=B\n",
    "    \n",
    "    def generate_observation(self,N):\n",
    "        states =np.zeros((N,),dtype=int)\n",
    "        obs    =np.zeros((N,),dtype=int)\n",
    "        \n",
    "        states[0] =random_pick(self.Q,self.pi)\n",
    "        for i in range(N):\n",
    "            obs[i] =random_pick(V,self.B[states[i],:])\n",
    "            if i<N-1:\n",
    "                states[i+1] =random_pick(Q,self.A[states[i],:])\n",
    "        return [states,obs]\n",
    "    \n",
    "    def probes_forward(self,observations):\n",
    "        N =len(observations)\n",
    "        alpha =np.zeros((N,len(self.Q)),dtype=float)\n",
    "        \n",
    "        for i in range(len(self.pi)):\n",
    "            alpha[0,i] =self.pi[i]*self.B[i,observations[0]]\n",
    "        \n",
    "        for i in range(len(observations)-1):\n",
    "            for j in range(len(self.Q)):\n",
    "                alpha[i+1,j]=self.B[j,observations[i+1]]*np.dot(alpha[i,:],self.A[:,j])\n",
    "        \n",
    "        probes =np.sum(alpha[N-1,:])\n",
    "  \n",
    "       \n",
    "        return [alpha,probes]\n",
    "    \n",
    "    def probes_backward(self,observations):\n",
    "        N =len(observations)\n",
    "        beta =np.zeros((N,len(self.Q)),dtype=float)\n",
    "        \n",
    "        for i in range(len(self.Q)):\n",
    "            beta[N-1,i] =1\n",
    "        \n",
    "        for i in range(len(observations)-1):\n",
    "            for j in range(len(self.Q)):\n",
    "                temp =np.multiply(self.A[j,:],self.B[:,observations[N-1-i]])\n",
    "                beta[N-2-i,j]=np.dot(temp,beta[N-1-i,:])\n",
    "        \n",
    "\n",
    "        \n",
    "        temp =np.multiply(self.pi,self.B[:,observations[0]])\n",
    "        \n",
    "        probes =np.dot(temp,beta[0,:])\n",
    "        \n",
    "        return [beta,probes]\n",
    "    \n",
    "    def fit(self,observations):\n",
    "        \"\"\"\n",
    "        Baum-Welch\n",
    "        \"\"\"\n",
    "        N =len(observations)\n",
    "        alpha =np.zeros((N,len(self.Q)),dtype=float)\n",
    "        beta  =np.zeros((N,len(self.Q)),dtype=float)\n",
    "        gamma =np.zeros((N,len(self.Q)),dtype=float)\n",
    "        epsilon =np.zeros((N,len(self.Q),len(self.Q)),dtype=float)\n",
    "        \n",
    "        maxpass =1000\n",
    "        \n",
    "\n",
    "        \n",
    "        \n",
    "        \n",
    "        #cannot be flat\n",
    "            \n",
    "        A =np.random.rand(len(self.Q),len(self.Q)) \n",
    "        B =np.random.rand(len(self.Q),len(self.V))\n",
    "        pi =np.random.rand(len(self.Q))\n",
    "        \n",
    "        A =A/(np.sum(A,axis=1))[:,np.newaxis]\n",
    "        B =B/(np.sum(B,axis=1))[:,np.newaxis]\n",
    "        pi =pi /np.sum(pi)\n",
    "        #print('A ',A)\n",
    "        #print('B ',B)\n",
    "        #print('pi ',pi)\n",
    "        \n",
    "        states =np.concatenate((A,np.concatenate((B,pi[:,np.newaxis]),axis=1)),axis=1)\n",
    "        last_states =np.zeros(states.shape,dtype=float)\n",
    "        \n",
    "        \n",
    "        times =0\n",
    "        \n",
    "        eps =1e-8\n",
    "        \n",
    "                    \n",
    "        self.A =A\n",
    "        self.B =B\n",
    "        self.pi =pi\n",
    "        \n",
    "        while(times<maxpass):\n",
    "\n",
    "            if(np.linalg.norm(states-last_states)<eps):\n",
    "                break\n",
    "            times +=1\n",
    "            last_states =states\n",
    "            [alpha,_] =self.probes_forward(observations)\n",
    "            [beta,_] =self.probes_backward(observations)\n",
    "            \n",
    "            \n",
    "            gamma =np.multiply(alpha,beta)\n",
    "            gamma =gamma/(np.sum(gamma,axis=1)[:,np.newaxis])\n",
    "            \n",
    "            for t in range(N-1):\n",
    "                for i in range(len(self.Q)):\n",
    "                    for j in range(len(self.Q)):\n",
    "                        epsilon[t,i,j] =alpha[t,i]*self.A[i,j]*self.B[j,observations[t+1]]*beta[t+1,j]\n",
    "                epsilon[t,:,:]  =epsilon[t,:,:]/np.sum(epsilon[t,:,:])\n",
    "            \n",
    "            #print('gamma ',gamma)\n",
    "            #print('epsilon ',epsilon)\n",
    "            \n",
    "            for i in range(len(self.Q)):\n",
    "                for j in range(len(self.Q)):\n",
    "                    self.A[i,j] =np.sum(epsilon[:-1,i,j]) /(np.sum(gamma[:-1,i]))\n",
    "            \n",
    "            for j in range(len(self.Q)):\n",
    "                for k in range(len(self.V)):\n",
    "                    self.B[j,k] = np.dot(gamma[:,j],observations==self.V[k])/np.sum(gamma[:,j])\n",
    "            \n",
    "            self.pi =gamma[0,:]\n",
    "           \n",
    "            \n",
    "            states =np.concatenate((self.A,np.concatenate((self.B,self.pi[:,np.newaxis]),axis=1)),axis=1)\n",
    "        \n",
    "        \n",
    "        \n",
    "    def decoding(self,observations):\n",
    "        \"\"\"\n",
    "        Viterbi\n",
    "        \"\"\"\n",
    "        \n",
    "        N =len(observations)\n",
    "        theta =np.zeros((N,len(self.Q)),dtype=float)\n",
    "        parent =np.zeros((N,len(self.Q)),dtype=float)\n",
    "        \n",
    "        for i in range(len(self.Q)):\n",
    "            theta[0,i] =self.pi[i]*self.B[i,observations[i]]\n",
    "            parent[0,i]=-1\n",
    "        max_index =-1\n",
    "        max_val =-999\n",
    "        for t in range(N-1):\n",
    "            for i in range(len(self.Q)):\n",
    "                max_index =-1\n",
    "                max_val =-1\n",
    "                for j in range(len(self.Q)):\n",
    "                    if(max_val<(theta[t,j]*self.A[j,i]*self.B[i,observations[t+1]])):\n",
    "                        max_val =theta[t,j]*self.A[j,i]*self.B[i,observations[t+1]]\n",
    "                        max_index =j\n",
    "                theta[t+1,i]=max_val\n",
    "                parent[t+1,i] =max_index\n",
    "        states =np.zeros((N,),dtype=int)\n",
    "        states[N-1] =np.argmax(theta[N-1,:])\n",
    "        for i in range(N-1):\n",
    "            states[N-2-i] =parent[N-1-i,states[N-1-i]]\n",
    "        \n",
    "        #print('theta ',theta)\n",
    "        #print('parents ',parent)\n",
    "        return states\n",
    "\n",
    "            \n",
    "                \n",
    "            \n",
    "\n",
    "            \n",
    "            \n",
    "            \n",
    "            \n",
    "            \n",
    "            \n",
    "            \n",
    "        \n",
    "    \n",
    "    \n",
    "        \n",
    "              \n",
    "            \n",
    "            \n",
    "                \n",
    "            \n",
    "        \n",
    "    \n",
    "        "
   ]
  },
  {
   "cell_type": "code",
   "execution_count": 281,
   "metadata": {},
   "outputs": [
    {
     "name": "stdout",
     "output_type": "stream",
     "text": [
      "A  [[0.  1.  0.  0. ]\n",
      " [0.4 0.  0.6 0. ]\n",
      " [0.  0.4 0.  0.6]\n",
      " [0.  0.  0.5 0.5]]\n",
      "B  [[0.5 0.5]\n",
      " [0.3 0.7]\n",
      " [0.6 0.4]\n",
      " [0.8 0.2]]\n",
      "pi  [0.25 0.25 0.25 0.25]\n",
      "states \r\n",
      "  [0 1 2 1 2 3 2 1 0 1 0 1 0 1 2 1 2 3 2 3]\n",
      "observations \r\n",
      "  [0 1 1 1 0 0 1 1 1 0 1 1 1 1 1 1 0 0 1 0]\n"
     ]
    }
   ],
   "source": [
    "hmm =HMM(Q=Q,V=V,pi=pi,A=A,B=B)\n",
    "print('A ',hmm.A)\n",
    "print('B ',hmm.B)\n",
    "print('pi ',hmm.pi)\n",
    "res =hmm.generate_observation(20)\n",
    "print('states \\r\\n ',res[0])\n",
    "print('observations \\r\\n ',res[1])\n",
    "observations =res[1]\n",
    "states      =res[0]\n",
    "\n",
    "N =40\n",
    "p =20\n",
    "data =np.zeros((N,p),dtype=int)\n",
    "for i in range(N):\n",
    "    data[i,:] =hmm.generate_observation(20)[1]"
   ]
  },
  {
   "cell_type": "code",
   "execution_count": 282,
   "metadata": {},
   "outputs": [
    {
     "data": {
      "text/plain": [
       "[array([[1.25000000e-01, 7.50000000e-02, 1.50000000e-01, 2.00000000e-01],\n",
       "        [1.50000000e-02, 1.29500000e-01, 5.80000000e-02, 3.80000000e-02],\n",
       "        [2.59000000e-02, 2.67400000e-02, 3.86800000e-02, 1.07600000e-02],\n",
       "        [5.34800000e-03, 2.89604000e-02, 8.56960000e-03, 5.71760000e-03],\n",
       "        [5.79208000e-03, 2.63275200e-03, 1.21410240e-02, 6.40044800e-03],\n",
       "        [5.26550400e-04, 3.19454688e-03, 2.86792512e-03, 8.38787072e-03],\n",
       "        [6.38909376e-04, 1.17160431e-03, 2.44426540e-03, 1.18293809e-03],\n",
       "        [2.34320863e-04, 1.13163087e-03, 5.17772653e-04, 4.11605656e-04],\n",
       "        [2.26326175e-04, 3.09000947e-04, 3.53912541e-04, 1.03293284e-04],\n",
       "        [6.18001893e-05, 1.10367357e-04, 1.42228326e-04, 2.11195333e-04],\n",
       "        [2.20734715e-05, 8.30840638e-05, 6.87272324e-05, 3.81869324e-05],\n",
       "        [1.66168128e-05, 3.46950551e-05, 2.75775618e-05, 1.20659611e-05],\n",
       "        [6.93901102e-06, 1.93534862e-05, 1.07400055e-05, 4.51590353e-06],\n",
       "        [3.87069725e-06, 7.86450924e-06, 5.54801740e-06, 1.74039101e-06],\n",
       "        [1.57290185e-06, 4.26293295e-06, 2.23556042e-06, 8.39801189e-07],\n",
       "        [8.52586589e-07, 1.72698821e-06, 1.19106414e-06, 3.52247369e-07],\n",
       "        [3.45397642e-07, 3.98703674e-07, 7.27389967e-07, 7.12609737e-07],\n",
       "        [7.97407348e-08, 1.90906089e-07, 3.57316244e-07, 6.34191079e-07],\n",
       "        [3.81812177e-08, 1.55867063e-07, 1.72655677e-07, 1.06297057e-07],\n",
       "        [3.11734125e-08, 3.21730466e-08, 8.80012597e-08, 1.25393548e-07]]),\n",
       " 2.7674126663269424e-07]"
      ]
     },
     "execution_count": 282,
     "metadata": {},
     "output_type": "execute_result"
    }
   ],
   "source": [
    "\n",
    "hmm.probes_forward(observations)"
   ]
  },
  {
   "cell_type": "code",
   "execution_count": 283,
   "metadata": {},
   "outputs": [
    {
     "data": {
      "text/plain": [
       "[array([[7.26500447e-07, 8.40728455e-07, 3.70565666e-07, 3.36446134e-07],\n",
       "        [2.58479291e-06, 1.03785778e-06, 1.34904114e-06, 6.66379057e-07],\n",
       "        [2.76663446e-06, 3.69256130e-06, 2.01887871e-06, 2.62603315e-06],\n",
       "        [7.26773216e-06, 3.95233494e-06, 9.32922860e-06, 7.60187435e-06],\n",
       "        [6.26110731e-06, 2.42257739e-05, 7.50031522e-06, 1.33794495e-05],\n",
       "        [6.58315341e-05, 2.08703577e-05, 3.07207418e-05, 1.04080673e-05],\n",
       "        [6.38440256e-05, 9.40450487e-05, 3.37564691e-05, 3.65677346e-05],\n",
       "        [2.91913131e-04, 9.12057509e-05, 1.48593428e-04, 6.84904905e-05],\n",
       "        [2.04226688e-04, 4.17018758e-04, 2.09835056e-04, 2.65234794e-04],\n",
       "        [1.13440693e-03, 6.80755626e-04, 5.28159368e-04, 2.66967460e-04],\n",
       "        [2.17395635e-03, 1.62058133e-03, 1.02485148e-03, 6.19971639e-04],\n",
       "        [5.15942147e-03, 3.10565194e-03, 2.45290430e-03, 1.29390780e-03],\n",
       "        [9.71049139e-03, 7.37060211e-03, 4.84814024e-03, 3.24279754e-03],\n",
       "        [2.22159437e-02, 1.38721306e-02, 1.21975557e-02, 8.03286400e-03],\n",
       "        [3.77193600e-02, 3.17370624e-02, 2.63677440e-02, 2.75931520e-02],\n",
       "        [4.95264000e-02, 5.38848000e-02, 9.09657600e-02, 9.40000000e-02],\n",
       "        [6.12000000e-02, 1.65088000e-01, 1.15680000e-01, 1.48240000e-01],\n",
       "        [3.92000000e-01, 2.04000000e-01, 2.40800000e-01, 1.90000000e-01],\n",
       "        [3.00000000e-01, 5.60000000e-01, 6.00000000e-01, 7.00000000e-01],\n",
       "        [1.00000000e+00, 1.00000000e+00, 1.00000000e+00, 1.00000000e+00]]),\n",
       " 2.767412666326941e-07]"
      ]
     },
     "execution_count": 283,
     "metadata": {},
     "output_type": "execute_result"
    }
   ],
   "source": [
    "hmm.probes_backward(observations)"
   ]
  },
  {
   "cell_type": "code",
   "execution_count": 284,
   "metadata": {},
   "outputs": [],
   "source": [
    "\n",
    "#hmm.fit(observations)"
   ]
  },
  {
   "cell_type": "code",
   "execution_count": 285,
   "metadata": {},
   "outputs": [
    {
     "name": "stdout",
     "output_type": "stream",
     "text": [
      "A  [[0.  1.  0.  0. ]\n",
      " [0.4 0.  0.6 0. ]\n",
      " [0.  0.4 0.  0.6]\n",
      " [0.  0.  0.5 0.5]]\n",
      "B  [[0.5 0.5]\n",
      " [0.3 0.7]\n",
      " [0.6 0.4]\n",
      " [0.8 0.2]]\n",
      "pi  [0.25 0.25 0.25 0.25]\n"
     ]
    }
   ],
   "source": [
    "print('A ',hmm.A)\n",
    "print('B ',hmm.B)\n",
    "print('pi ',hmm.pi)"
   ]
  },
  {
   "cell_type": "code",
   "execution_count": 286,
   "metadata": {},
   "outputs": [
    {
     "name": "stdout",
     "output_type": "stream",
     "text": [
      "theta  [[1.25000000e-01 1.75000000e-01 1.00000000e-01 5.00000000e-02]\n",
      " [3.50000000e-02 8.75000000e-02 4.20000000e-02 1.20000000e-02]\n",
      " [1.75000000e-02 2.45000000e-02 2.10000000e-02 5.04000000e-03]\n",
      " [4.90000000e-03 1.22500000e-02 5.88000000e-03 2.52000000e-03]\n",
      " [2.45000000e-03 1.47000000e-03 4.41000000e-03 2.82240000e-03]\n",
      " [2.94000000e-04 7.35000000e-04 8.46720000e-04 2.11680000e-03]\n",
      " [1.47000000e-04 2.37081600e-04 4.23360000e-04 2.11680000e-04]\n",
      " [4.74163200e-05 1.18540800e-04 5.68995840e-05 5.08032000e-05]\n",
      " [2.37081600e-05 3.31914240e-05 2.84497920e-05 6.82795008e-06]\n",
      " [6.63828480e-06 7.11244800e-06 1.19489126e-05 1.36559002e-05]\n",
      " [1.42248960e-06 4.64679936e-06 2.73118003e-06 1.43386952e-06]\n",
      " [9.29359872e-07 9.95742720e-07 1.11523185e-06 3.27741604e-07]\n",
      " [1.99148544e-07 6.50551910e-07 2.38978253e-07 1.33827822e-07]\n",
      " [1.30110382e-07 1.39403981e-07 1.56132458e-07 2.86773903e-08]\n",
      " [2.78807962e-08 9.10772675e-08 3.34569554e-08 1.87358950e-08]\n",
      " [1.82154535e-08 1.95165573e-08 2.18585442e-08 4.01483465e-09]\n",
      " [3.90331146e-09 5.46463605e-09 7.02596063e-09 1.04921012e-08]\n",
      " [1.09292721e-09 1.17099344e-09 3.14763036e-09 4.19684048e-09]\n",
      " [2.34198688e-10 8.81336502e-10 8.39368097e-10 4.19684048e-10]\n",
      " [1.76267300e-10 1.00724172e-10 3.17281141e-10 4.02896686e-10]]\n",
      "parents  [[-1. -1. -1. -1.]\n",
      " [ 1.  0.  1.  2.]\n",
      " [ 1.  0.  1.  2.]\n",
      " [ 1.  0.  1.  2.]\n",
      " [ 1.  0.  1.  2.]\n",
      " [ 1.  0.  3.  2.]\n",
      " [ 1.  2.  3.  3.]\n",
      " [ 1.  2.  1.  2.]\n",
      " [ 1.  0.  1.  2.]\n",
      " [ 1.  0.  1.  2.]\n",
      " [ 1.  0.  3.  2.]\n",
      " [ 1.  0.  1.  2.]\n",
      " [ 1.  0.  1.  2.]\n",
      " [ 1.  0.  1.  2.]\n",
      " [ 1.  0.  1.  2.]\n",
      " [ 1.  0.  1.  2.]\n",
      " [ 1.  0.  1.  2.]\n",
      " [ 1.  0.  3.  3.]\n",
      " [ 1.  2.  3.  3.]\n",
      " [ 1.  2.  1.  2.]]\n"
     ]
    },
    {
     "data": {
      "text/plain": [
       "array([1, 0, 1, 2, 3, 2, 1, 0, 1, 0, 1, 0, 1, 0, 1, 2, 3, 3, 2, 3])"
      ]
     },
     "execution_count": 286,
     "metadata": {},
     "output_type": "execute_result"
    }
   ],
   "source": [
    "hmm.decoding(observations)"
   ]
  },
  {
   "cell_type": "code",
   "execution_count": null,
   "metadata": {},
   "outputs": [],
   "source": []
  },
  {
   "cell_type": "code",
   "execution_count": 238,
   "metadata": {},
   "outputs": [
    {
     "data": {
      "text/plain": [
       "array([1., 2., 3.])"
      ]
     },
     "execution_count": 238,
     "metadata": {},
     "output_type": "execute_result"
    }
   ],
   "source": [
    "test =np.array([1,2,3,4],dtype=float)\n",
    "test[:-1]"
   ]
  },
  {
   "cell_type": "code",
   "execution_count": null,
   "metadata": {},
   "outputs": [],
   "source": []
  }
 ],
 "metadata": {
  "kernelspec": {
   "display_name": "Python 3",
   "language": "python",
   "name": "python3"
  },
  "language_info": {
   "codemirror_mode": {
    "name": "ipython",
    "version": 3
   },
   "file_extension": ".py",
   "mimetype": "text/x-python",
   "name": "python",
   "nbconvert_exporter": "python",
   "pygments_lexer": "ipython3",
   "version": "3.6.9"
  }
 },
 "nbformat": 4,
 "nbformat_minor": 2
}
