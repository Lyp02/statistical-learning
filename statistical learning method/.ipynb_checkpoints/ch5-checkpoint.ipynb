{
 "cells": [
  {
   "cell_type": "code",
   "execution_count": 1,
   "metadata": {},
   "outputs": [
    {
     "data": {
      "text/plain": [
       "'\\nDecision Tree\\n'"
      ]
     },
     "execution_count": 1,
     "metadata": {},
     "output_type": "execute_result"
    }
   ],
   "source": [
    "\"\"\"\n",
    "Decision Tree\n",
    "\"\"\""
   ]
  },
  {
   "cell_type": "code",
   "execution_count": 27,
   "metadata": {},
   "outputs": [
    {
     "name": "stdout",
     "output_type": "stream",
     "text": [
      "X_train shape  (15, 4)\n",
      "[[0. 0. 0. 0.]\n",
      " [0. 0. 0. 1.]\n",
      " [0. 1. 0. 1.]\n",
      " [0. 1. 1. 0.]\n",
      " [0. 0. 0. 0.]\n",
      " [1. 0. 0. 0.]\n",
      " [1. 0. 0. 1.]\n",
      " [1. 1. 1. 1.]\n",
      " [1. 0. 1. 2.]\n",
      " [1. 0. 1. 2.]\n",
      " [2. 0. 1. 2.]\n",
      " [2. 0. 1. 1.]\n",
      " [2. 1. 0. 1.]\n",
      " [2. 1. 0. 2.]\n",
      " [2. 0. 0. 1.]]\n",
      "y_train shape  (15, 1)\n",
      "[[0.]\n",
      " [0.]\n",
      " [1.]\n",
      " [1.]\n",
      " [0.]\n",
      " [0.]\n",
      " [0.]\n",
      " [1.]\n",
      " [1.]\n",
      " [1.]\n",
      " [1.]\n",
      " [1.]\n",
      " [1.]\n",
      " [1.]\n",
      " [0.]]\n",
      "data shape  (15, 5)\n"
     ]
    }
   ],
   "source": [
    "%matplotlib inline\n",
    "import numpy as np\n",
    "import matplotlib.pyplot as plt\n",
    "X_train =np.array([[0,0,0,0],[0,0,0,1],[0,1,0,1],[0,1,1,0],[0,0,0,0],[1,0,0,0],[1,0,0,1],[1,1,1,1],[1,0,1,2],[1,0,1,2],[2,0,1,2],\n",
    "         [2,0,1,1],[2,1,0,1],[2,1,0,2],[2,0,0,1]],dtype='float')\n",
    "y_train =np.array([[0],[0],[1],[1],[0],[0],[0],[1],[1],[1],[1],[1],[1],[1],[0]],dtype='float')\n",
    "print('X_train shape ',X_train.shape)\n",
    "\n",
    "print(X_train)\n",
    "print('y_train shape ',y_train.shape)\n",
    "print(y_train)\n",
    "\n",
    "data =np.concatenate([X_train,y_train],axis=1)\n",
    "print('data shape ',data.shape)\n",
    "features_names =['age','job','house','credit']\n",
    "category_names =['reject','recept']"
   ]
  },
  {
   "cell_type": "code",
   "execution_count": 28,
   "metadata": {},
   "outputs": [],
   "source": [
    "def entropy(y):\n",
    "    n =len(y)\n",
    "    labels =np.unique(y)\n",
    "    res =0\n",
    "    for i in range(len(labels)):\n",
    "        counts =np.count_nonzero(y==labels[i])\n",
    "        res =res +((counts/n))*np.log2(((counts/n)))\n",
    "    return -1*res\n",
    "\n",
    "def info_gain(X,y,k):\n",
    "    [n,p]=X.shape\n",
    "    H1 =entropy(y)\n",
    "    items =np.unique(X[:,k])\n",
    "    res =0\n",
    "    for i in range(len(items)):\n",
    "        index = (X[:,k]==items[i])\n",
    "        data =y[index]\n",
    "        res = res +(len(data)/n)*entropy(data)\n",
    "    return entropy(y)-res\n",
    "def info_gain_ratio(X,y,k):\n",
    "    return (info_gain(X,y,k)/entropy(X[:,k]))\n",
    "def gini(y):\n",
    "    n =len(y)\n",
    "    labels =np.unique(y)\n",
    "    res =0\n",
    "    for i in range(len(labels)):\n",
    "        counts =np.count_nonzero(y==labels[i])\n",
    "        res =res + (counts*counts)/(n*n)\n",
    "    return 1-res\n",
    "    "
   ]
  },
  {
   "cell_type": "code",
   "execution_count": 29,
   "metadata": {},
   "outputs": [],
   "source": [
    "class Node(object):\n",
    "    \n",
    "    def __init__(self,data=None,father=None,child=None,entr=None,label=None,mask=None,name=None):\n",
    "        self.data=data\n",
    "        self.father=father\n",
    "        self.child=child\n",
    "        self.entr=entr\n",
    "        self.label=label\n",
    "        self.mask =mask\n",
    "        self.name =name\n",
    "\n",
    "class ID3(object):\n",
    "\n",
    "    def __init__(self,head=None,leaves=[],features=None,category=None):\n",
    "        self.head =head\n",
    "        self.leaves =leaves\n",
    "        self.features =features\n",
    "        self.category =category\n",
    "    \n",
    "    def build_tree(self,father,data,eps):\n",
    "        root =Node(data=data)\n",
    "        root.father =father\n",
    "        [n,p]=data.shape\n",
    "        p =p-1\n",
    "        labels =np.unique(data[:,-1])\n",
    "        root.entr =entropy(data[:,-1])\n",
    "        mask =np.ones((p+1,),dtype='bool')\n",
    "        root.mask =mask\n",
    "        root.child=[]\n",
    "        feature_gain =0\n",
    "        index =0\n",
    "        temp =0\n",
    "        for i in range(p):\n",
    "            temp =info_gain(data[:,0:-1],data[:,-1],i)\n",
    "            if(feature_gain<temp):\n",
    "                feature_gain=temp\n",
    "                index =i\n",
    "             \n",
    "        if(p==0 or (feature_gain!=0 and feature_gain<=eps)):\n",
    "            counts =0\n",
    "            label=0\n",
    "            for i in range(len(labels)):\n",
    "                if(counts>np.count_nonzero(data[:,]==labels[i])):\n",
    "                    counts =np.count_nonzero(data[:,]==labels[i])\n",
    "                    label =labels[i]\n",
    "            root.label =label\n",
    "            self.leaves.append(root)\n",
    "            return root\n",
    "        if(len(labels)==1):\n",
    "            root.label=labels[0]\n",
    "            self.leaves.append(root)\n",
    "            return root\n",
    "        features =np.unique(data[:,index])\n",
    "        mask[index]=0\n",
    "        root.mask=mask\n",
    "        for i in range(len(features)):\n",
    "            data_child =data[(data[:,index]==features[i]),:]\n",
    "            child =self.build_tree(root,data_child[:,mask],eps)\n",
    "            root.child.append(child)\n",
    "        return root\n",
    "    \n",
    "    def pruning(self,alpha =0.2):\n",
    "        leaves =self.leaves\n",
    "        stop =0\n",
    "        i =0\n",
    "        while(i<len(leaves)):\n",
    "            if(len(leaves)==1):\n",
    "                break\n",
    "            cur =leaves[i]\n",
    "            father =cur.father\n",
    "            res =alpha*(len(father.child)-1)-father.entr*(len(father.data[:,-1]))\n",
    "            for son in father.child:\n",
    "                res =res + son.entr*(len(son.data[:,-1]))\n",
    "            print('delta loss between father and son ',res)\n",
    "            if(res<=0):\n",
    "                i =i+1\n",
    "            else:\n",
    "                labels =np.unique(father.data[:,-1])\n",
    "                counts =0\n",
    "                for i in range(len(labels)):\n",
    "                    if(counts<np.count_nonzero(father.data[:,-1]==labels[i])):\n",
    "                        counts =np.count_nonzero(father.data[:,-1]==labels[i])\n",
    "                        father.label =labels[i]\n",
    "                print('pruning')\n",
    "                print('self.leaves \\n ',self.leaves)\n",
    "                print('father child \\n ',father.child)\n",
    "                for child in father.child:\n",
    "                    self.leaves.remove(child)\n",
    "                father.child=[]\n",
    "                mask =~father.mask\n",
    "                index =np.where(mask==True)[0][0]\n",
    "                father.mask[index]=True\n",
    "                self.leaves.insert(0,father)\n",
    "                leaves =self.leaves\n",
    "                i=0\n",
    "                \n",
    "    def predict(self,root,X):\n",
    "        print('node ',root)\n",
    "        if(root.child==[] or root.label!=None):\n",
    "            return root.label\n",
    "        print('X ',X)\n",
    "        print('root.data ',root.data)\n",
    "        mask =~(root.mask)\n",
    "        feature =X[mask[:-1]]\n",
    "        print('root.mask ',root.mask)\n",
    "        labels =np.unique(root.data[:,mask])\n",
    "        print('feature ',feature)\n",
    "        print('labels ',labels)\n",
    "        index =np.where(labels==feature)[0][0]\n",
    "        print('index ',index)\n",
    "        print('mask.shape ',mask.shape)\n",
    "        return self.predict(root.child[index],X[root.mask[:-1]])\n",
    "        \n",
    "        \n",
    "        \n",
    "                        \n",
    "                \n",
    "            \n",
    "            \n",
    "            \n",
    "        \n",
    "    \n",
    "   \n",
    "        \n",
    "\n",
    "            \n",
    "                \n",
    "            \n",
    "                \n",
    "        "
   ]
  },
  {
   "cell_type": "code",
   "execution_count": 30,
   "metadata": {},
   "outputs": [
    {
     "name": "stdout",
     "output_type": "stream",
     "text": [
      "[[0. 0. 0.]\n",
      " [0. 1. 0.]\n",
      " [0. 0. 0.]\n",
      " [1. 0. 0.]\n",
      " [1. 1. 0.]\n",
      " [2. 1. 0.]]\n",
      "****************************\n",
      "[[0. 1. 1.]\n",
      " [2. 1. 1.]\n",
      " [2. 2. 1.]]\n",
      "****************************\n",
      "[[0. 1. 0. 1.]\n",
      " [1. 1. 1. 1.]\n",
      " [1. 0. 2. 1.]\n",
      " [1. 0. 2. 1.]\n",
      " [2. 0. 2. 1.]\n",
      " [2. 0. 1. 1.]]\n",
      "****************************\n"
     ]
    }
   ],
   "source": [
    "head =Node()\n",
    "tree =ID3()\n",
    "tree.head =tree.build_tree(None,data,0.02)\n",
    "for leave in tree.leaves:\n",
    "    print(leave.data)\n",
    "    print('****************************')"
   ]
  },
  {
   "cell_type": "code",
   "execution_count": 41,
   "metadata": {},
   "outputs": [
    {
     "name": "stdout",
     "output_type": "stream",
     "text": [
      "delta loss between father and son  1.7353374935095935\n",
      "pruning\n",
      "self.leaves \n",
      "  [<__main__.Node object at 0x7f50295eec50>, <__main__.Node object at 0x7f50295ee940>, <__main__.Node object at 0x7f50295eea58>]\n",
      "father child \n",
      "  [<__main__.Node object at 0x7f50295eec50>, <__main__.Node object at 0x7f50295ee940>]\n",
      "delta loss between father and son  3.700403589670378\n",
      "pruning\n",
      "self.leaves \n",
      "  [<__main__.Node object at 0x7f504423d048>, <__main__.Node object at 0x7f50295eea58>]\n",
      "father child \n",
      "  [<__main__.Node object at 0x7f504423d048>, <__main__.Node object at 0x7f50295eea58>]\n",
      "[<__main__.Node object at 0x7f502969af98>]\n"
     ]
    }
   ],
   "source": [
    "tree.pruning(alpha=10)\n",
    "print(tree.leaves)"
   ]
  },
  {
   "cell_type": "code",
   "execution_count": 44,
   "metadata": {},
   "outputs": [
    {
     "name": "stdout",
     "output_type": "stream",
     "text": [
      "label  1.0\n",
      "mask  [ True  True  True  True  True]\n",
      "child  []\n",
      "False\n"
     ]
    }
   ],
   "source": [
    "print('label ',tree.leaves[len(tree.leaves)-1].label)\n",
    "print('mask ',tree.leaves[len(tree.leaves)-1].mask)\n",
    "print('child ',tree.leaves[len(tree.leaves)-1].child)\n",
    "print(tree.leaves[len(tree.leaves)-1].child==None)"
   ]
  },
  {
   "cell_type": "code",
   "execution_count": 45,
   "metadata": {},
   "outputs": [
    {
     "data": {
      "text/plain": [
       "array([0])"
      ]
     },
     "execution_count": 45,
     "metadata": {},
     "output_type": "execute_result"
    }
   ],
   "source": [
    "test =np.array([0,1],dtype='bool')\n",
    "np.where(test==0)[0]"
   ]
  },
  {
   "cell_type": "code",
   "execution_count": 46,
   "metadata": {},
   "outputs": [
    {
     "name": "stdout",
     "output_type": "stream",
     "text": [
      "node  <__main__.Node object at 0x7f502969af98>\n"
     ]
    },
    {
     "data": {
      "text/plain": [
       "1.0"
      ]
     },
     "execution_count": 46,
     "metadata": {},
     "output_type": "execute_result"
    }
   ],
   "source": [
    "X_test =np.array([2,0,0,0],dtype='float')\n",
    "tree.predict(tree.head,X_test)\n"
   ]
  },
  {
   "cell_type": "code",
   "execution_count": 48,
   "metadata": {},
   "outputs": [],
   "source": [
    "from sklearn.datasets import make_blobs"
   ]
  },
  {
   "cell_type": "code",
   "execution_count": 54,
   "metadata": {},
   "outputs": [],
   "source": [
    "X,y =make_blobs(n_samples=40,centers=2,random_state=6)\n"
   ]
  },
  {
   "cell_type": "code",
   "execution_count": 50,
   "metadata": {},
   "outputs": [
    {
     "data": {
      "text/plain": [
       "<matplotlib.collections.PathCollection at 0x7f501b944320>"
      ]
     },
     "execution_count": 50,
     "metadata": {},
     "output_type": "execute_result"
    },
    {
     "data": {
      "image/png": "[encoded data removed]",
      "text/plain": [
       "<Figure size 432x288 with 1 Axes>"
      ]
     },
     "metadata": {
      "needs_background": "light"
     },
     "output_type": "display_data"
    }
   ],
   "source": [
    "\n",
    "plt.scatter(X[:,0],X[:,1],c=y,s=30,cmap=plt.cm.Paired)\n"
   ]
  },
  {
   "cell_type": "code",
   "execution_count": 58,
   "metadata": {},
   "outputs": [
    {
     "name": "stdout",
     "output_type": "stream",
     "text": [
      "(40, 2)\n",
      "(40, 1)\n"
     ]
    }
   ],
   "source": [
    "X,y =make_blobs(n_samples=40,centers=2,random_state=6)\n",
    "\n",
    "y =y[:,np.newaxis]\n",
    "print(X.shape)\n",
    "print(y.shape)\n",
    "new_data =np.concatenate([X,y],axis=1)\n",
    "newhead =Node()\n",
    "new_tree =ID3()\n",
    "new_tree.head =new_tree.build_tree(None,new_data,0.02)"
   ]
  },
  {
   "cell_type": "code",
   "execution_count": 73,
   "metadata": {},
   "outputs": [],
   "source": [
    "X_train =np.random.uniform(-4,4,size=(20,2))+np.random.rand(20,2)*0.5\n",
    "y_train =2.7*np.sin(X_train[:,0])-0.9*np.square(X_train[:,1])+15\n",
    "y_train =y_train[:,np.newaxis]"
   ]
  },
  {
   "cell_type": "code",
   "execution_count": 74,
   "metadata": {},
   "outputs": [
    {
     "name": "stdout",
     "output_type": "stream",
     "text": [
      "X_train  (20, 2)\n",
      "y_train  (20, 1)\n"
     ]
    }
   ],
   "source": [
    "print('X_train ',X_train.shape)\n",
    "print('y_train ',y_train.shape)\n",
    "data =np.concatenate([X_train,y_train],axis=1)"
   ]
  },
  {
   "cell_type": "code",
   "execution_count": 75,
   "metadata": {},
   "outputs": [],
   "source": [
    "class CartNode(object):\n",
    "    def __init__(self,data=None,right=None,left=None,father=None,conditions=None,index=None,val=None,loss=None,ave=None):\n",
    "        self.data =data\n",
    "        self.right =right\n",
    "        self.left  =left\n",
    "        self.father =father\n",
    "        self.conditions =conditions  #(p,2) array [low,high)\n",
    "        self.index =index            #\n",
    "        this.val =val\n",
    "        self.loss =loss\n",
    "        self.ave =ave                #weight\n",
    "\n",
    "def belong(X,conditions,index):\n",
    "    [n,p]=X.shape\n",
    "    res =np.ones((n,1),dtype='bool')\n",
    "    for i in range(p):\n",
    "        res =res & (conditions[i][0]<=X[:,i] &conditions[i][1]>X[:,i] )\n",
    "    return res\n",
    "        \n",
    "def mse(y,y_predict):\n",
    "    return np.mean(np.square((y-y_predict)))\n",
    "def CartTree(object):\n",
    "    def __init__(self,head=None,limits=None,blocks=None,weights=None):\n",
    "        self.head =None\n",
    "        self.limits =None\n",
    "        self.blocks =None\n",
    "        self.weights =None\n",
    "    \n",
    "    def build_tree(self,father,data,conditions,loss,eps):\n",
    "        [n,p]=data.shape\n",
    "        root =CartNode(data=data,father=father,conditions=conditions)\n",
    "        self.ave =np.mean(data[:,-1])\n",
    "        self.loss =loss\n",
    "        if(len(data)==0 or self.loss<eps):\n",
    "            return root\n",
    "        p =p-1\n",
    "        index =0\n",
    "        val =0\n",
    "        err =999999\n",
    "        for i in range(p):\n",
    "            index =i\n",
    "            line =np.linspace(conditions[i][0],conditions[i][1],num=100)\n",
    "            for j in len(line):\n",
    "                s =line[j]\n",
    "                mask = (data[:,i]<s)\n",
    "                y_left =data[mask,-1]\n",
    "                y_right =data[~mask,-1]\n",
    "                mean_left =np.mean(y_left)\n",
    "                mean_right =np.mean(y_right)\n",
    "                loss_left =np.square(mean_left -y_left)\n",
    "                loss_right =np.square(mean_right-y_right)\n",
    "                if(err>(loss_left +loss_right)):\n",
    "                    err =loss_left +loss_right\n",
    "                    index =i\n",
    "                    val =s\n",
    "        mask =(data[:,index]<val)\n",
    "        data_left =data[mask,:]\n",
    "        data_right =data[~mask,:]\n",
    "        conditions\n",
    "                \n",
    "        \n",
    "        \n",
    "    \n",
    "    \n",
    "    \n",
    "        "
   ]
  },
  {
   "cell_type": "code",
   "execution_count": null,
   "metadata": {},
   "outputs": [],
   "source": []
  }
 ],
 "metadata": {
  "kernelspec": {
   "display_name": "Python 3",
   "language": "python",
   "name": "python3"
  },
  "language_info": {
   "codemirror_mode": {
    "name": "ipython",
    "version": 3
   },
   "file_extension": ".py",
   "mimetype": "text/x-python",
   "name": "python",
   "nbconvert_exporter": "python",
   "pygments_lexer": "ipython3",
   "version": "3.6.9"
  }
 },
 "nbformat": 4,
 "nbformat_minor": 2
}
