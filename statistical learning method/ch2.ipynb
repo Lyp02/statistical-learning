{
 "cells": [
  {
   "cell_type": "code",
   "execution_count": 1,
   "metadata": {},
   "outputs": [
    {
     "data": {
      "text/plain": [
       "'\\nPerception Prime & Dual\\n'"
      ]
     },
     "execution_count": 1,
     "metadata": {},
     "output_type": "execute_result"
    }
   ],
   "source": [
    "'''\n",
    "Perception Prime & Dual\n",
    "'''"
   ]
  },
  {
   "cell_type": "code",
   "execution_count": 2,
   "metadata": {},
   "outputs": [],
   "source": [
    "import numpy as np\n",
    "%matplotlib inline\n",
    "import matplotlib.pyplot as plt"
   ]
  },
  {
   "cell_type": "code",
   "execution_count": 86,
   "metadata": {},
   "outputs": [
    {
     "name": "stdout",
     "output_type": "stream",
     "text": [
      "X shape  (4, 2)\n",
      "y shape  (4, 1)\n"
     ]
    }
   ],
   "source": [
    "X_train =np.array([[3,3],[4,2],[4,3],[0.5,0.5]],dtype='float')\n",
    "y_train =np.array([[1],[-1],[1],[-1]],dtype='float')\n",
    "print('X shape ',X_train.shape)\n",
    "print('y shape ',y_train.shape)"
   ]
  },
  {
   "cell_type": "code",
   "execution_count": 112,
   "metadata": {},
   "outputs": [],
   "source": [
    "def perception_prime(X,y,lr=1,iterations=100000):\n",
    "    [n,p]=X.shape\n",
    "    w =np.zeros((p,1),dtype='float')\n",
    "    b =0\n",
    "    mask =0\n",
    "    for it in range(iterations):\n",
    "        if(mask==1):\n",
    "            break\n",
    "        mask =1\n",
    "        for i in range(n):\n",
    "            if((y[i]*(np.dot(X[i],w)+b))<=0):\n",
    "                w = w+lr*y[i]*(X[i].reshape((p,1)))\n",
    "                b = b+lr*y[i]\n",
    "                mask =0\n",
    "                break\n",
    "    return [w,b]\n",
    "\n",
    "def perception_dual(X,y,lr=1,iterations=10000):\n",
    "    [n,p] =X.shape\n",
    "    b =0\n",
    "    alpha =np.zeros((n,1),dtype='float')\n",
    "    gram =np.dot(X,X.T)\n",
    "    mask =0\n",
    "    print('y[:,0] ',y[:,0].shape)\n",
    "    print('alpha[:,0] ',alpha[:,0].shape)\n",
    "    print('gram[:,i] ',gram[:,0].shape)\n",
    "    for it in range(iterations):\n",
    "        if(mask==1):\n",
    "            break\n",
    "        mask =1\n",
    "        for i in range(n):\n",
    "            if(y[i]*((np.sum(alpha[:,0]*y[:,0]*gram[:,i]))+b)<=0):\n",
    "                alpha[i]=alpha[i]+lr\n",
    "                b =b+ lr*y[i]\n",
    "                mask=0\n",
    "                break\n",
    "    return [alpha,b]"
   ]
  },
  {
   "cell_type": "code",
   "execution_count": 111,
   "metadata": {},
   "outputs": [
    {
     "name": "stdout",
     "output_type": "stream",
     "text": [
      "w :  [[-0.8]\n",
      " [ 1.2]]\n",
      "b :  [-0.3]\n"
     ]
    },
    {
     "data": {
      "text/plain": [
       "[<matplotlib.lines.Line2D at 0x7fc4a81479b0>]"
      ]
     },
     "execution_count": 111,
     "metadata": {},
     "output_type": "execute_result"
    },
    {
     "data": {
      "image/png": "[encoded data removed]",
      "text/plain": [
       "<Figure size 432x288 with 1 Axes>"
      ]
     },
     "metadata": {},
     "output_type": "display_data"
    }
   ],
   "source": [
    "[w,b] =perception_prime(X_train,y_train,0.1)\n",
    "print('w : ',w)\n",
    "print('b : ',b )\n",
    "plt.xlim(0,6)\n",
    "plt.ylim(0,6)\n",
    "plt.style.use('seaborn-white')\n",
    "plt.scatter(X_train[:,0],X_train[:,1],c=y_train[:,0],alpha=0.3,cmap='viridis')\n",
    "x_line =np.linspace(-6,6,1000)\n",
    "y_line =-1*(w[0]/w[1])*x_line-(b/w[1])\n",
    "plt.plot(x_line,y_line,'-k',linewidth=0.1)"
   ]
  },
  {
   "cell_type": "code",
   "execution_count": 121,
   "metadata": {},
   "outputs": [
    {
     "name": "stdout",
     "output_type": "stream",
     "text": [
      "y[:,0]  (4,)\n",
      "alpha[:,0]  (4,)\n",
      "gram[:,i]  (4,)\n",
      "alpha :  [[0.11]\n",
      " [0.13]\n",
      " [0.03]\n",
      " [0.04]]\n",
      "b :  [-0.03]\n",
      "(4, 1)\n",
      "(4, 2)\n",
      "w : [-0.09  0.14]\n",
      "b  [-0.03]\n"
     ]
    },
    {
     "data": {
      "text/plain": [
       "[<matplotlib.lines.Line2D at 0x7fc4b4343668>]"
      ]
     },
     "execution_count": 121,
     "metadata": {},
     "output_type": "execute_result"
    },
    {
     "data": {
      "image/png": "[encoded data removed]",
      "text/plain": [
       "<Figure size 432x288 with 1 Axes>"
      ]
     },
     "metadata": {},
     "output_type": "display_data"
    }
   ],
   "source": [
    "[alpha,b] =perception_dual(X_train,y_train,lr=0.01)\n",
    "print('alpha : ',alpha)\n",
    "print('b : ',b )\n",
    "print((alpha*y_train).shape)\n",
    "print(np.multiply(alpha*y_train,X_train).shape)\n",
    "\n",
    "w =np.sum(np.multiply(alpha*y_train,X_train),axis=0)\n",
    "w =w.T\n",
    "print('w :',w)\n",
    "print('b ',b)\n",
    "plt.xlim(0,6)\n",
    "plt.ylim(0,6)\n",
    "plt.style.use('seaborn-white')\n",
    "plt.scatter(X_train[:,0],X_train[:,1],c=y_train[:,0],alpha=0.3,cmap='viridis')\n",
    "x_line =np.linspace(-6,6,1000)\n",
    "y_line =-1*(w[0]/w[1])*x_line-(b/w[1])\n",
    "plt.plot(x_line,y_line,'-k',linewidth=0.1)"
   ]
  },
  {
   "cell_type": "code",
   "execution_count": null,
   "metadata": {},
   "outputs": [],
   "source": []
  }
 ],
 "metadata": {
  "kernelspec": {
   "display_name": "Python 3",
   "language": "python",
   "name": "python3"
  },
  "language_info": {
   "codemirror_mode": {
    "name": "ipython",
    "version": 3
   },
   "file_extension": ".py",
   "mimetype": "text/x-python",
   "name": "python",
   "nbconvert_exporter": "python",
   "pygments_lexer": "ipython3",
   "version": "3.6.9"
  }
 },
 "nbformat": 4,
 "nbformat_minor": 2
}
