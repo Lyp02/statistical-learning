{
 "cells": [
  {
   "cell_type": "code",
   "execution_count": 1,
   "metadata": {},
   "outputs": [
    {
     "data": {
      "text/plain": [
       "'\\nSympy exercise\\n'"
      ]
     },
     "execution_count": 1,
     "metadata": {},
     "output_type": "execute_result"
    }
   ],
   "source": [
    "\"\"\"\n",
    "Sympy exercise\n",
    "\"\"\""
   ]
  },
  {
   "cell_type": "code",
   "execution_count": 1,
   "metadata": {},
   "outputs": [],
   "source": [
    "import numpy as np\n",
    "import sympy as sy\n"
   ]
  },
  {
   "cell_type": "code",
   "execution_count": 4,
   "metadata": {},
   "outputs": [],
   "source": [
    "x0 =sy.symbols('x0')"
   ]
  },
  {
   "cell_type": "code",
   "execution_count": 5,
   "metadata": {},
   "outputs": [],
   "source": [
    "x2,x3 =sy.symbols('x2 x3')\n",
    "m,a =sy.symbols('mass acceleration')\n",
    "x,y,z = sy.symbols('x:z')\n",
    "x4,x5,x6 =sy.symbols('x4:7')"
   ]
  },
  {
   "cell_type": "code",
   "execution_count": 6,
   "metadata": {},
   "outputs": [
    {
     "name": "stdout",
     "output_type": "stream",
     "text": [
      "x**2 + 4*x*y + 4*y**3\n",
      "acceleration*mass\n"
     ]
    }
   ],
   "source": [
    "expr =x**2+x*y+3*x*y+4*y**3\n",
    "force =m*a\n",
    "print(expr,force,sep='\\n')"
   ]
  },
  {
   "cell_type": "code",
   "execution_count": 8,
   "metadata": {},
   "outputs": [
    {
     "data": {
      "text/latex": [
       "$\\displaystyle e^{x}$"
      ],
      "text/plain": [
       "exp(x)"
      ]
     },
     "execution_count": 8,
     "metadata": {},
     "output_type": "execute_result"
    }
   ],
   "source": [
    "x = sy.symbols('x')\n",
    "sy.exp(x)"
   ]
  },
  {
   "cell_type": "code",
   "execution_count": 9,
   "metadata": {},
   "outputs": [
    {
     "data": {
      "text/latex": [
       "$\\displaystyle 0.666666666666667 \\sin{\\left(x \\right)}$"
      ],
      "text/plain": [
       "0.666666666666667*sin(x)"
      ]
     },
     "execution_count": 9,
     "metadata": {},
     "output_type": "execute_result"
    }
   ],
   "source": [
    "x =sy.symbols('x')\n",
    "(2/3)*sy.sin(x)"
   ]
  },
  {
   "cell_type": "code",
   "execution_count": 10,
   "metadata": {},
   "outputs": [
    {
     "data": {
      "text/latex": [
       "$\\displaystyle \\frac{2 \\sin{\\left(x \\right)}}{3}$"
      ],
      "text/plain": [
       "2*sin(x)/3"
      ]
     },
     "execution_count": 10,
     "metadata": {},
     "output_type": "execute_result"
    }
   ],
   "source": [
    "sy.Rational(2,3)*sy.sin(x)"
   ]
  },
  {
   "cell_type": "code",
   "execution_count": 12,
   "metadata": {},
   "outputs": [
    {
     "data": {
      "text/latex": [
       "$\\displaystyle \\frac{2 e^{x^{2} - y} \\cosh{\\left(x + y \\right)}}{5} + \\frac{3 \\log{\\left(x y + 1 \\right)}}{7}$"
      ],
      "text/plain": [
       "2*exp(x**2 - y)*cosh(x + y)/5 + 3*log(x*y + 1)/7"
      ]
     },
     "execution_count": 12,
     "metadata": {},
     "output_type": "execute_result"
    }
   ],
   "source": [
    "x ,y =sy.symbols('x y')\n",
    "sy.Rational(2,5)*sy.exp(x*x-y)*sy.cosh(x+y)+sy.Rational(3,7)*sy.log(x*y+1)"
   ]
  },
  {
   "cell_type": "code",
   "execution_count": 13,
   "metadata": {},
   "outputs": [
    {
     "data": {
      "text/latex": [
       "$\\displaystyle 4 x + 10 y$"
      ],
      "text/plain": [
       "4*x + 10*y"
      ]
     },
     "execution_count": 13,
     "metadata": {},
     "output_type": "execute_result"
    }
   ],
   "source": [
    "x,y,i =sy.symbols('x y i')\n",
    "sy.summation(x+i*y,(i,1,4))\n"
   ]
  },
  {
   "cell_type": "code",
   "execution_count": 14,
   "metadata": {},
   "outputs": [
    {
     "data": {
      "text/latex": [
       "$\\displaystyle x \\left(x + y\\right) \\left(x + 2 y\\right) \\left(x + 3 y\\right) \\left(x + 4 y\\right) \\left(x + 5 y\\right)$"
      ],
      "text/plain": [
       "x*(x + y)*(x + 2*y)*(x + 3*y)*(x + 4*y)*(x + 5*y)"
      ]
     },
     "execution_count": 14,
     "metadata": {},
     "output_type": "execute_result"
    }
   ],
   "source": [
    "sy.product(x+i*y,(i,0,5))"
   ]
  },
  {
   "cell_type": "code",
   "execution_count": 15,
   "metadata": {},
   "outputs": [
    {
     "name": "stdout",
     "output_type": "stream",
     "text": [
      "(x**2 + 2*x + 1)/((x + 1)*(sin(x)**2/cos(x)**2 + 1))\n"
     ]
    }
   ],
   "source": [
    "x =sy.symbols('x')\n",
    "expr =(x**2+2*x+1)/((x+1)*((sy.sin(x)/sy.cos(x))**2+1))\n",
    "print(expr)"
   ]
  },
  {
   "cell_type": "code",
   "execution_count": 16,
   "metadata": {},
   "outputs": [
    {
     "data": {
      "text/latex": [
       "$\\displaystyle \\left(x + 1\\right) \\cos^{2}{\\left(x \\right)}$"
      ],
      "text/plain": [
       "(x + 1)*cos(x)**2"
      ]
     },
     "execution_count": 16,
     "metadata": {},
     "output_type": "execute_result"
    }
   ],
   "source": [
    "sy.simplify(expr)"
   ]
  },
  {
   "cell_type": "code",
   "execution_count": 17,
   "metadata": {},
   "outputs": [
    {
     "name": "stdout",
     "output_type": "stream",
     "text": [
      "x*(x + y)*(x + 2*y)*(x + 3*y)\n"
     ]
    }
   ],
   "source": [
    "expr =sy.product(x+i*y,(i,0,3))\n",
    "print(expr)"
   ]
  },
  {
   "cell_type": "code",
   "execution_count": 20,
   "metadata": {},
   "outputs": [
    {
     "name": "stdout",
     "output_type": "stream",
     "text": [
      "x**4 + 6*x**3*y + 11*x**2*y**2 + 6*x*y**3\n"
     ]
    }
   ],
   "source": [
    "expr_long =sy.expand(expr)\n",
    "print(expr_long)"
   ]
  },
  {
   "cell_type": "code",
   "execution_count": 21,
   "metadata": {},
   "outputs": [
    {
     "name": "stdout",
     "output_type": "stream",
     "text": [
      "(x**4 + 6*x**3*y + 11*x**2*y**2 + 6*x*y**3)/(x + 3*y)\n"
     ]
    }
   ],
   "source": [
    "expr_long /=x+3*y\n",
    "print(expr_long)"
   ]
  },
  {
   "cell_type": "code",
   "execution_count": 23,
   "metadata": {},
   "outputs": [
    {
     "name": "stdout",
     "output_type": "stream",
     "text": [
      "x**3 + 3*x**2*y + 2*x*y**2\n"
     ]
    }
   ],
   "source": [
    "expr_short =sy.cancel(expr_long)\n",
    "print(expr_short)"
   ]
  },
  {
   "cell_type": "code",
   "execution_count": 24,
   "metadata": {},
   "outputs": [
    {
     "data": {
      "text/latex": [
       "$\\displaystyle x \\left(x + y\\right) \\left(x + 2 y\\right)$"
      ],
      "text/plain": [
       "x*(x + y)*(x + 2*y)"
      ]
     },
     "execution_count": 24,
     "metadata": {},
     "output_type": "execute_result"
    }
   ],
   "source": [
    "sy.factor(expr_short)"
   ]
  },
  {
   "cell_type": "code",
   "execution_count": 25,
   "metadata": {},
   "outputs": [
    {
     "data": {
      "text/latex": [
       "$\\displaystyle \\sin{\\left(2 x \\right)}$"
      ],
      "text/plain": [
       "sin(2*x)"
      ]
     },
     "execution_count": 25,
     "metadata": {},
     "output_type": "execute_result"
    }
   ],
   "source": [
    "sy.trigsimp(2*sy.sin(x)*sy.cos(x))"
   ]
  },
  {
   "cell_type": "code",
   "execution_count": 26,
   "metadata": {},
   "outputs": [
    {
     "data": {
      "text/latex": [
       "$\\displaystyle \\sin{\\left(2 x \\right)}$"
      ],
      "text/plain": [
       "sin(2*x)"
      ]
     },
     "execution_count": 26,
     "metadata": {},
     "output_type": "execute_result"
    }
   ],
   "source": [
    "expr =2*sy.sin(x)*sy.cos(x)\n",
    "sy.trigsimp(expr)"
   ]
  },
  {
   "cell_type": "code",
   "execution_count": 27,
   "metadata": {},
   "outputs": [
    {
     "name": "stdout",
     "output_type": "stream",
     "text": [
      "2*sin(x)*cos(x)\n"
     ]
    }
   ],
   "source": [
    "print(expr)"
   ]
  },
  {
   "cell_type": "code",
   "execution_count": 28,
   "metadata": {},
   "outputs": [
    {
     "data": {
      "text/plain": [
       "False"
      ]
     },
     "execution_count": 28,
     "metadata": {},
     "output_type": "execute_result"
    }
   ],
   "source": [
    "2*sy.sin(x)*sy.cos(x)==sy.sin(2*x)"
   ]
  },
  {
   "cell_type": "code",
   "execution_count": 29,
   "metadata": {},
   "outputs": [
    {
     "data": {
      "text/latex": [
       "$\\displaystyle x^{2.0} - 1$"
      ],
      "text/plain": [
       "x**2.0 - 1"
      ]
     },
     "execution_count": 29,
     "metadata": {},
     "output_type": "execute_result"
    }
   ],
   "source": [
    "sy.factor(x**2.0 -1)"
   ]
  },
  {
   "cell_type": "code",
   "execution_count": 32,
   "metadata": {},
   "outputs": [],
   "source": [
    "x,y,i,j =sy.symbols('x y i j')\n",
    "expr =sy.product(sy.summation(j*(sy.sin(x)+sy.cos(x)),(j,i,5)),(i,1,5))"
   ]
  },
  {
   "cell_type": "code",
   "execution_count": 34,
   "metadata": {},
   "outputs": [
    {
     "data": {
      "text/latex": [
       "$\\displaystyle 113400 \\left(\\sin{\\left(x \\right)} + \\cos{\\left(x \\right)}\\right)^{5}$"
      ],
      "text/plain": [
       "113400*(sin(x) + cos(x))**5"
      ]
     },
     "execution_count": 34,
     "metadata": {},
     "output_type": "execute_result"
    }
   ],
   "source": [
    "sy.factor(expr)"
   ]
  },
  {
   "cell_type": "code",
   "execution_count": 36,
   "metadata": {},
   "outputs": [
    {
     "name": "stdout",
     "output_type": "stream",
     "text": [
      "x**3 + 3*x**2*y + 3*x*y**2 + y**3\n"
     ]
    }
   ],
   "source": [
    "x,y =sy.symbols('x y')\n",
    "expr = sy.expand((x+y)**3)\n",
    "print(expr)"
   ]
  },
  {
   "cell_type": "code",
   "execution_count": 37,
   "metadata": {},
   "outputs": [
    {
     "data": {
      "text/latex": [
       "$\\displaystyle 27 x^{3}$"
      ],
      "text/plain": [
       "27*x**3"
      ]
     },
     "execution_count": 37,
     "metadata": {},
     "output_type": "execute_result"
    }
   ],
   "source": [
    "expr.subs(y,2*x)"
   ]
  },
  {
   "cell_type": "code",
   "execution_count": 38,
   "metadata": {},
   "outputs": [
    {
     "name": "stdout",
     "output_type": "stream",
     "text": [
      "1 + 3*pi + 3*pi**2 + pi**3\n"
     ]
    }
   ],
   "source": [
    "new_expr =expr.subs({x:sy.pi,y:1})\n",
    "print(new_expr)"
   ]
  },
  {
   "cell_type": "code",
   "execution_count": 39,
   "metadata": {},
   "outputs": [
    {
     "data": {
      "text/latex": [
       "$\\displaystyle 71.0398678443373$"
      ],
      "text/plain": [
       "71.0398678443373"
      ]
     },
     "execution_count": 39,
     "metadata": {},
     "output_type": "execute_result"
    }
   ],
   "source": [
    "new_expr.evalf()"
   ]
  },
  {
   "cell_type": "code",
   "execution_count": 40,
   "metadata": {},
   "outputs": [
    {
     "data": {
      "text/latex": [
       "$\\displaystyle 27.0$"
      ],
      "text/plain": [
       "27.0000000000000"
      ]
     },
     "execution_count": 40,
     "metadata": {},
     "output_type": "execute_result"
    }
   ],
   "source": [
    "expr.evalf(subs={x:1,y:2})"
   ]
  },
  {
   "cell_type": "code",
   "execution_count": 41,
   "metadata": {},
   "outputs": [
    {
     "name": "stdout",
     "output_type": "stream",
     "text": [
      "0.0 1.0 1.4997597826618576e-32\n"
     ]
    }
   ],
   "source": [
    "f =sy.lambdify(x,sy.sin(x)**2)\n",
    "print(f(0),f(np.pi/2),f(np.pi),sep=' ')"
   ]
  },
  {
   "cell_type": "code",
   "execution_count": 42,
   "metadata": {},
   "outputs": [
    {
     "name": "stdout",
     "output_type": "stream",
     "text": [
      "0.2919265817264289 1.708073418273571 1.0\n"
     ]
    }
   ],
   "source": [
    "f =sy.lambdify((x,y),sy.sin(x)**2+sy.cos(y)**2)\n",
    "print(f(0,1),f(1,0),f(np.pi,np.pi),sep=' ')"
   ]
  },
  {
   "cell_type": "code",
   "execution_count": 43,
   "metadata": {},
   "outputs": [
    {
     "data": {
      "text/plain": [
       "array([ 0.00000000e+00,  2.00000000e+00,  2.44929360e-16, -2.00000000e+00,\n",
       "       -4.89858720e-16,  2.00000000e+00,  7.34788079e-16, -2.00000000e+00,\n",
       "       -9.79717439e-16])"
      ]
     },
     "execution_count": 43,
     "metadata": {},
     "output_type": "execute_result"
    }
   ],
   "source": [
    "f =sy.lambdify(x,2*sy.sin(2*x),\"numpy\")\n",
    "f(np.linspace(0,2*np.pi,9))"
   ]
  },
  {
   "cell_type": "code",
   "execution_count": 44,
   "metadata": {},
   "outputs": [],
   "source": [
    "x =sy.symbols('x')\n",
    "expr = sy.tanh(x)\n",
    "points =np.random.random(10000)"
   ]
  },
  {
   "cell_type": "code",
   "execution_count": 45,
   "metadata": {},
   "outputs": [
    {
     "name": "stdout",
     "output_type": "stream",
     "text": [
      "CPU times: user 4.82 s, sys: 0 ns, total: 4.82 s\n",
      "Wall time: 4.82 s\n"
     ]
    }
   ],
   "source": [
    "%time _ =[expr.subs(x,pt).evalf() for pt in points]"
   ]
  },
  {
   "cell_type": "code",
   "execution_count": 46,
   "metadata": {},
   "outputs": [
    {
     "name": "stdout",
     "output_type": "stream",
     "text": [
      "CPU times: user 12.1 ms, sys: 3.89 ms, total: 16 ms\n",
      "Wall time: 15.7 ms\n"
     ]
    }
   ],
   "source": [
    "f =sy.lambdify(x,expr)\n",
    "%time _ =[f(pt) for pt in points]"
   ]
  },
  {
   "cell_type": "code",
   "execution_count": 47,
   "metadata": {},
   "outputs": [
    {
     "name": "stdout",
     "output_type": "stream",
     "text": [
      "CPU times: user 3.31 ms, sys: 99 µs, total: 3.41 ms\n",
      "Wall time: 27.7 ms\n"
     ]
    }
   ],
   "source": [
    "f = sy.lambdify(x,expr,\"numpy\")\n",
    "%time _ =f(points)"
   ]
  },
  {
   "cell_type": "code",
   "execution_count": 28,
   "metadata": {},
   "outputs": [
    {
     "name": "stdout",
     "output_type": "stream",
     "text": [
      "-E*N*x*lowergamma(N + 1, 1)/gamma(N + 2) + E*x - E*x*lowergamma(N + 1, 1)/gamma(N + 2)\n"
     ]
    }
   ],
   "source": [
    "import sympy as sy\n",
    "\n",
    "sy.init_printing()\n",
    "x,y,n,N =sy.symbols('x y n N')\n",
    "\n",
    "expr =sy.summation(x/sy.factorial(n),(n,0,N))\n",
    "print(expr.expand())"
   ]
  },
  {
   "cell_type": "code",
   "execution_count": 16,
   "metadata": {},
   "outputs": [
    {
     "data": {
      "image/png": "[encoded data removed]",
      "text/latex": [
       "$\\displaystyle - \\frac{e \\left(362880 - \\frac{986410}{e}\\right)}{36288} + 10 e$"
      ],
      "text/plain": [
       "    ⎛                 -1⎞       \n",
       "  ℯ⋅⎝362880 - 986410⋅ℯ  ⎠       \n",
       "- ─────────────────────── + 10⋅ℯ\n",
       "           36288                "
      ]
     },
     "execution_count": 16,
     "metadata": {},
     "output_type": "execute_result"
    }
   ],
   "source": [
    "expr.subs({x:10,N:9})\n",
    "#f =sy.lambdify((x,N),expr,\"numpy\")\n",
    "#line =np.linspace(-5,5,1000)\n",
    "#out =f(line,20)"
   ]
  },
  {
   "cell_type": "code",
   "execution_count": null,
   "metadata": {},
   "outputs": [],
   "source": []
  },
  {
   "cell_type": "code",
   "execution_count": 6,
   "metadata": {},
   "outputs": [
    {
     "data": {
      "text/plain": [
       "[1]"
      ]
     },
     "execution_count": 6,
     "metadata": {},
     "output_type": "execute_result"
    }
   ],
   "source": [
    "x,y =sy.symbols('x y')\n",
    "sy.solve(x**2-2*x+1,x)"
   ]
  },
  {
   "cell_type": "code",
   "execution_count": 7,
   "metadata": {},
   "outputs": [
    {
     "data": {
      "text/plain": [
       "[-1, 1]"
      ]
     },
     "execution_count": 7,
     "metadata": {},
     "output_type": "execute_result"
    }
   ],
   "source": [
    "sy.solve(x**2-1,x)"
   ]
  },
  {
   "cell_type": "code",
   "execution_count": 8,
   "metadata": {},
   "outputs": [
    {
     "data": {
      "text/plain": [
       "[y*(3 - sqrt(5))/2, y*(sqrt(5) + 3)/2]"
      ]
     },
     "execution_count": 8,
     "metadata": {},
     "output_type": "execute_result"
    }
   ],
   "source": [
    "sy.solve(x/(y-x)+(x-y)/y,x)"
   ]
  },
  {
   "cell_type": "code",
   "execution_count": 12,
   "metadata": {},
   "outputs": [],
   "source": [
    "def mypi(n):\n",
    "    tot =sy.Rational(0,1)\n",
    "    term =1\n",
    "    bound =sy.Rational(1,10)**(n+1)\n",
    "    i =0\n",
    "    while bound<=term:\n",
    "        term =6*sy.Rational(sy.factorial(2*i),4**i*(sy.factorial(i))**2*(2*i+1)*2**(2*i+1))\n",
    "        tot +=term\n",
    "        i +=1\n",
    "    return sy.Float(tot,n)"
   ]
  },
  {
   "cell_type": "code",
   "execution_count": 13,
   "metadata": {},
   "outputs": [
    {
     "data": {
      "image/png": "[encoded data removed]",
      "text/latex": [
       "$\\displaystyle 3.141592654$"
      ],
      "text/plain": [
       "3.141592654"
      ]
     },
     "execution_count": 13,
     "metadata": {},
     "output_type": "execute_result"
    }
   ],
   "source": [
    "mypi(10)"
   ]
  },
  {
   "cell_type": "code",
   "execution_count": 18,
   "metadata": {},
   "outputs": [
    {
     "data": {
      "image/png": "[encoded data removed]",
      "text/latex": [
       "$\\displaystyle 4308669456480829440000 \\left(x^{3} + 36 x^{2} y + 426 x y^{2} + 1656 y^{3}\\right)$"
      ],
      "text/plain": [
       "                       ⎛ 3       2            2         3⎞\n",
       "4308669456480829440000⋅⎝x  + 36⋅x ⋅y + 426⋅x⋅y  + 1656⋅y ⎠"
      ]
     },
     "execution_count": 18,
     "metadata": {},
     "output_type": "execute_result"
    }
   ],
   "source": [
    "x,y,i =sy.symbols('x y i')\n",
    "expr = sy.product((x+i*y),(i,1,23))\n",
    "expr =expr.expand()\n",
    "expr.diff(x,20)"
   ]
  },
  {
   "cell_type": "code",
   "execution_count": 19,
   "metadata": {},
   "outputs": [
    {
     "data": {
      "image/png": "[encoded data removed]",
      "text/latex": [
       "$\\displaystyle \\frac{e^{x} \\sin{\\left(x \\right)} \\sinh{\\left(x \\right)}}{5} + \\frac{e^{x} \\sin{\\left(x \\right)} \\cosh{\\left(x \\right)}}{5} - \\frac{3 e^{x} \\cos{\\left(x \\right)} \\sinh{\\left(x \\right)}}{5} + \\frac{2 e^{x} \\cos{\\left(x \\right)} \\cosh{\\left(x \\right)}}{5}$"
      ],
      "text/plain": [
       " x                   x                     x                     x            \n",
       "ℯ ⋅sin(x)⋅sinh(x)   ℯ ⋅sin(x)⋅cosh(x)   3⋅ℯ ⋅cos(x)⋅sinh(x)   2⋅ℯ ⋅cos(x)⋅cosh\n",
       "───────────────── + ───────────────── - ─────────────────── + ────────────────\n",
       "        5                   5                    5                     5      \n",
       "\n",
       "   \n",
       "(x)\n",
       "───\n",
       "   "
      ]
     },
     "execution_count": 19,
     "metadata": {},
     "output_type": "execute_result"
    }
   ],
   "source": [
    "sy.Integral(sy.sin(x)*sy.exp(x)*sy.sinh(x),x).doit()"
   ]
  },
  {
   "cell_type": "code",
   "execution_count": 20,
   "metadata": {},
   "outputs": [
    {
     "data": {
      "image/png": "[encoded data removed]",
      "text/latex": [
       "$\\displaystyle 12 x^{2} \\left(x^{3} + y\\right)^{3} e^{y} \\sin{\\left(x \\right)} \\cos{\\left(x \\right)} - \\left(x^{3} + y\\right)^{4} e^{y} \\sin^{2}{\\left(x \\right)} + \\left(x^{3} + y\\right)^{4} e^{y} \\cos^{2}{\\left(x \\right)}$"
      ],
      "text/plain": [
       "              3                            4                      4           \n",
       "    2 ⎛ 3    ⎞   y                 ⎛ 3    ⎞   y    2      ⎛ 3    ⎞   y    2   \n",
       "12⋅x ⋅⎝x  + y⎠ ⋅ℯ ⋅sin(x)⋅cos(x) - ⎝x  + y⎠ ⋅ℯ ⋅sin (x) + ⎝x  + y⎠ ⋅ℯ ⋅cos (x)"
      ]
     },
     "execution_count": 20,
     "metadata": {},
     "output_type": "execute_result"
    }
   ],
   "source": [
    "expr = sy.sin(x)*sy.cos(x)*sy.exp(y)*(x**3+y)**4\n",
    "sy.Derivative(expr,x).doit()"
   ]
  },
  {
   "cell_type": "code",
   "execution_count": 21,
   "metadata": {},
   "outputs": [
    {
     "data": {
      "image/png": "[encoded data removed]",
      "text/latex": [
       "$\\displaystyle - x y \\sin{\\left(x y \\right)} + \\cos{\\left(x y \\right)}$"
      ],
      "text/plain": [
       "-x⋅y⋅sin(x⋅y) + cos(x⋅y)"
      ]
     },
     "execution_count": 21,
     "metadata": {},
     "output_type": "execute_result"
    }
   ],
   "source": [
    "expr = sy.sin(x*y)\n",
    "expr.diff(x,y)"
   ]
  },
  {
   "cell_type": "code",
   "execution_count": 22,
   "metadata": {},
   "outputs": [
    {
     "data": {
      "image/png": "[encoded data removed]",
      "text/latex": [
       "$\\displaystyle \\frac{4}{9}$"
      ],
      "text/plain": [
       "4/9"
      ]
     },
     "execution_count": 22,
     "metadata": {},
     "output_type": "execute_result"
    }
   ],
   "source": [
    "sy.integrate(y**2*x**2,(x,-1,1),(y,-1,1))"
   ]
  },
  {
   "cell_type": "code",
   "execution_count": 23,
   "metadata": {},
   "outputs": [
    {
     "data": {
      "image/png": "[encoded data removed]",
      "text/latex": [
       "$\\displaystyle \\frac{x^{3} y^{3}}{9}$"
      ],
      "text/plain": [
       " 3  3\n",
       "x ⋅y \n",
       "─────\n",
       "  9  "
      ]
     },
     "execution_count": 23,
     "metadata": {},
     "output_type": "execute_result"
    }
   ],
   "source": [
    "sy.integrate(y**2*x**2,x,y)"
   ]
  },
  {
   "cell_type": "code",
   "execution_count": 24,
   "metadata": {},
   "outputs": [
    {
     "data": {
      "image/png": "[encoded data removed]",
      "text/latex": [
       "$\\displaystyle r{\\left(x \\right)} = \\left(C_{1} + C_{2} x\\right) e^{x} + \\frac{\\cos{\\left(x \\right)}}{2}$"
      ],
      "text/plain": [
       "                    x   cos(x)\n",
       "r(x) = (C₁ + C₂⋅x)⋅ℯ  + ──────\n",
       "                          2   "
      ]
     },
     "execution_count": 24,
     "metadata": {},
     "output_type": "execute_result"
    }
   ],
   "source": [
    "x =sy.symbols('x')\n",
    "f =sy.Function('r')\n",
    "eq =sy.Eq(f(x).diff(x,2)-2*f(x).diff(x)+f(x),sy.sin(x))\n",
    "sy.dsolve(eq)"
   ]
  },
  {
   "cell_type": "code",
   "execution_count": 25,
   "metadata": {},
   "outputs": [
    {
     "data": {
      "text/latex": [
       "$\\displaystyle \\left[\\begin{matrix}2 x & 0\\\\1 & 1\\end{matrix}\\right]$"
      ],
      "text/plain": [
       "⎡2⋅x  0⎤\n",
       "⎢      ⎥\n",
       "⎣ 1   1⎦"
      ]
     },
     "execution_count": 25,
     "metadata": {},
     "output_type": "execute_result"
    }
   ],
   "source": [
    "x,y =sy.symbols('x y')\n",
    "F =sy.Matrix([x**2,x+y])\n",
    "F.jacobian([x,y])"
   ]
  },
  {
   "cell_type": "code",
   "execution_count": 27,
   "metadata": {},
   "outputs": [
    {
     "name": "stdout",
     "output_type": "stream",
     "text": [
      "Solving environment: failed\n",
      "\n",
      "PackagesNotFoundError: The following packages are not available from current channels:\n",
      "\n",
      "  - autograd\n",
      "\n",
      "Current channels:\n",
      "\n",
      "  - https://mirrors.tuna.tsinghua.edu.cn/anaconda/pkgs/main/linux-64\n",
      "  - https://mirrors.tuna.tsinghua.edu.cn/anaconda/pkgs/main/noarch\n",
      "  - https://mirrors.tuna.tsinghua.edu.cn/anaconda/pkgs/free/linux-64\n",
      "  - https://mirrors.tuna.tsinghua.edu.cn/anaconda/pkgs/free/noarch\n",
      "  - https://repo.anaconda.com/pkgs/main/linux-64\n",
      "  - https://repo.anaconda.com/pkgs/main/noarch\n",
      "  - https://repo.anaconda.com/pkgs/free/linux-64\n",
      "  - https://repo.anaconda.com/pkgs/free/noarch\n",
      "  - https://repo.anaconda.com/pkgs/r/linux-64\n",
      "  - https://repo.anaconda.com/pkgs/r/noarch\n",
      "  - https://repo.anaconda.com/pkgs/pro/linux-64\n",
      "  - https://repo.anaconda.com/pkgs/pro/noarch\n",
      "\n",
      "To search for alternate channels that may provide the conda package you're\n",
      "looking for, navigate to\n",
      "\n",
      "    https://anaconda.org\n",
      "\n",
      "and use the search bar at the top of the page.\n",
      "\n",
      "\n"
     ]
    }
   ],
   "source": [
    "!conda install autograd"
   ]
  },
  {
   "cell_type": "code",
   "execution_count": 29,
   "metadata": {},
   "outputs": [
    {
     "data": {
      "image/png": "[encoded data removed]",
      "text/latex": [
       "$\\displaystyle \\left\\{ x : \\frac{98}{11}, \\  y : - \\frac{45}{11}, \\  z : \\frac{2}{11}\\right\\}$"
      ],
      "text/plain": [
       "⎧   98     -45          ⎫\n",
       "⎨x: ──, y: ────, z: 2/11⎬\n",
       "⎩   11      11          ⎭"
      ]
     },
     "execution_count": 29,
     "metadata": {},
     "output_type": "execute_result"
    }
   ],
   "source": [
    "x,y,z =sy.symbols('x y z')\n",
    "M =sy.Matrix([[1,1,1,5],\n",
    "             [2,4,3,2],\n",
    "             [5,10,2,4]])\n",
    "sy.solve_linear_system(M,x,y,z)"
   ]
  },
  {
   "cell_type": "code",
   "execution_count": 30,
   "metadata": {},
   "outputs": [
    {
     "name": "stdout",
     "output_type": "stream",
     "text": [
      "Derivative(sin(y)*cos(x)**2, x)\n"
     ]
    }
   ],
   "source": [
    "x,y =sy.symbols('x y')\n",
    "f =sy.sin(y)*sy.cos(x)**2\n",
    "df =sy.Derivative(f,x)\n",
    "print(df)"
   ]
  },
  {
   "cell_type": "code",
   "execution_count": 31,
   "metadata": {},
   "outputs": [
    {
     "data": {
      "image/png": "[encoded data removed]",
      "text/latex": [
       "$\\displaystyle - 2 \\sin{\\left(x \\right)} \\sin{\\left(y \\right)} \\cos{\\left(x \\right)}$"
      ],
      "text/plain": [
       "-2⋅sin(x)⋅sin(y)⋅cos(x)"
      ]
     },
     "execution_count": 31,
     "metadata": {},
     "output_type": "execute_result"
    }
   ],
   "source": [
    "df.doit()"
   ]
  },
  {
   "cell_type": "code",
   "execution_count": 32,
   "metadata": {},
   "outputs": [
    {
     "data": {
      "image/png": "[encoded data removed]",
      "text/latex": [
       "$\\displaystyle - 2 \\sin{\\left(x \\right)} \\sin{\\left(y \\right)} \\cos{\\left(x \\right)}$"
      ],
      "text/plain": [
       "-2⋅sin(x)⋅sin(y)⋅cos(x)"
      ]
     },
     "execution_count": 32,
     "metadata": {},
     "output_type": "execute_result"
    }
   ],
   "source": [
    "sy.diff(f,x)"
   ]
  },
  {
   "cell_type": "code",
   "execution_count": 33,
   "metadata": {},
   "outputs": [
    {
     "data": {
      "image/png": "[encoded data removed]",
      "text/latex": [
       "$\\displaystyle 2 \\left(\\sin^{2}{\\left(x \\right)} - \\cos^{2}{\\left(x \\right)}\\right) \\cos{\\left(y \\right)}$"
      ],
      "text/plain": [
       "  ⎛   2         2   ⎞       \n",
       "2⋅⎝sin (x) - cos (x)⎠⋅cos(y)"
      ]
     },
     "execution_count": 33,
     "metadata": {},
     "output_type": "execute_result"
    }
   ],
   "source": [
    "sy.diff(f,x,y,x)"
   ]
  },
  {
   "cell_type": "code",
   "execution_count": 34,
   "metadata": {},
   "outputs": [],
   "source": [
    "r,t =sy.symbols('r theta')\n",
    "f =sy.Matrix([r*sy.cos(t),r*sy.sin(t)])"
   ]
  },
  {
   "cell_type": "code",
   "execution_count": 35,
   "metadata": {},
   "outputs": [
    {
     "data": {
      "text/latex": [
       "$\\displaystyle \\left[\\begin{matrix}\\cos{\\left(\\theta \\right)} & - r \\sin{\\left(\\theta \\right)}\\\\\\sin{\\left(\\theta \\right)} & r \\cos{\\left(\\theta \\right)}\\end{matrix}\\right]$"
      ],
      "text/plain": [
       "⎡cos(θ)  -r⋅sin(θ)⎤\n",
       "⎢                 ⎥\n",
       "⎣sin(θ)  r⋅cos(θ) ⎦"
      ]
     },
     "execution_count": 35,
     "metadata": {},
     "output_type": "execute_result"
    }
   ],
   "source": [
    "J =f.jacobian([r,t])\n",
    "J"
   ]
  },
  {
   "cell_type": "code",
   "execution_count": 36,
   "metadata": {},
   "outputs": [
    {
     "data": {
      "text/latex": [
       "$\\displaystyle \\left[\\begin{matrix}0 & -1\\\\1 & 0\\end{matrix}\\right]$"
      ],
      "text/plain": [
       "⎡0  -1⎤\n",
       "⎢     ⎥\n",
       "⎣1  0 ⎦"
      ]
     },
     "execution_count": 36,
     "metadata": {},
     "output_type": "execute_result"
    }
   ],
   "source": [
    "J.subs({r:1,t:sy.pi/2})"
   ]
  },
  {
   "cell_type": "code",
   "execution_count": 37,
   "metadata": {},
   "outputs": [
    {
     "data": {
      "image/png": "[encoded data removed]",
      "text/latex": [
       "$\\displaystyle r$"
      ],
      "text/plain": [
       "r"
      ]
     },
     "execution_count": 37,
     "metadata": {},
     "output_type": "execute_result"
    }
   ],
   "source": [
    "sy.simplify(J.det())"
   ]
  },
  {
   "cell_type": "code",
   "execution_count": 38,
   "metadata": {},
   "outputs": [
    {
     "data": {
      "image/png": "[encoded data removed]",
      "text/latex": [
       "$\\displaystyle - \\frac{\\log{\\left(\\sin{\\left(x \\right)} - 1 \\right)}}{2} + \\frac{\\log{\\left(\\sin{\\left(x \\right)} + 1 \\right)}}{2}$"
      ],
      "text/plain": [
       "  log(sin(x) - 1)   log(sin(x) + 1)\n",
       "- ─────────────── + ───────────────\n",
       "         2                 2       "
      ]
     },
     "execution_count": 38,
     "metadata": {},
     "output_type": "execute_result"
    }
   ],
   "source": [
    "sy.integrate(sy.sec(x),x)"
   ]
  },
  {
   "cell_type": "code",
   "execution_count": 39,
   "metadata": {},
   "outputs": [
    {
     "data": {
      "image/png": "[encoded data removed]",
      "text/latex": [
       "$\\displaystyle \\frac{\\pi}{4}$"
      ],
      "text/plain": [
       "π\n",
       "─\n",
       "4"
      ]
     },
     "execution_count": 39,
     "metadata": {},
     "output_type": "execute_result"
    }
   ],
   "source": [
    "sy.integrate(sy.cos(x)**2,(x,0,sy.pi/2))"
   ]
  },
  {
   "cell_type": "code",
   "execution_count": 41,
   "metadata": {},
   "outputs": [
    {
     "data": {
      "image/png": "[encoded data removed]",
      "text/latex": [
       "$\\displaystyle \\frac{16}{9}$"
      ],
      "text/plain": [
       "16/9"
      ]
     },
     "execution_count": 41,
     "metadata": {},
     "output_type": "execute_result"
    }
   ],
   "source": [
    "sy.integrate(y**2*x**2,(x,0,2),(y,-1,1))"
   ]
  },
  {
   "cell_type": "code",
   "execution_count": 42,
   "metadata": {},
   "outputs": [],
   "source": [
    "import sympy as sy\n",
    "sy.init_printing()"
   ]
  },
  {
   "cell_type": "code",
   "execution_count": 44,
   "metadata": {},
   "outputs": [
    {
     "data": {
      "image/png": "[encoded data removed]",
      "text/latex": [
       "$\\displaystyle \\frac{d}{d \\theta} \\int\\limits_{1}^{\\pi}\\int\\limits_{-1}^{1}\\int\\limits^{0.2} \\left(\\theta y + x\\right)^{4} e^{y} \\log{\\left(z \\right)} \\sin{\\left(\\theta \\right)}\\, dx\\, dy\\, dz$"
      ],
      "text/plain": [
       "       ⎛π 1  0.2                                               ⎞\n",
       "       ⎜⌠ ⌠   ⌠                                                ⎟\n",
       "   d   ⎜⎮ ⎮   ⎮                4  y                            ⎟\n",
       "───────⎜⎮ ⎮   ⎮  (\\theta⋅y + x) ⋅ℯ ⋅log(z)⋅sin(\\theta) dx dy dz⎟\n",
       "d\\theta⎜⌡ ⌡   ⌡                                                ⎟\n",
       "       ⎝1 -1                                                   ⎠"
      ]
     },
     "execution_count": 44,
     "metadata": {},
     "output_type": "execute_result"
    }
   ],
   "source": [
    "x,y,z ,theta =sy.symbols('x y z \\\\theta')\n",
    "expr =sy.sin(theta)*sy.exp(y)*sy.log(z)*(x+y*theta)**4\n",
    "I =sy.Integral(expr,(x,0.2),(y,-1,1),(z,1,sy.pi))\n",
    "dI =sy.Derivative(I,theta)\n",
    "dI"
   ]
  },
  {
   "cell_type": "code",
   "execution_count": 47,
   "metadata": {},
   "outputs": [
    {
     "data": {
      "text/plain": [
       "'\\\\lim_{x \\\\to \\\\infty} a^{\\\\frac{1}{x}}'"
      ]
     },
     "execution_count": 47,
     "metadata": {},
     "output_type": "execute_result"
    }
   ],
   "source": [
    "a,x =sy.symbols('a x')\n",
    "sy.latex(sy.Limit(a**(1/x),x,sy.oo))\n"
   ]
  },
  {
   "cell_type": "code",
   "execution_count": 48,
   "metadata": {},
   "outputs": [
    {
     "data": {
      "image/png": "[encoded data removed]",
      "text/latex": [
       "$\\displaystyle e$"
      ],
      "text/plain": [
       "ℯ"
      ]
     },
     "execution_count": 48,
     "metadata": {},
     "output_type": "execute_result"
    }
   ],
   "source": [
    "sy.limit((1+x)**(1/x),x,0)"
   ]
  },
  {
   "cell_type": "code",
   "execution_count": 49,
   "metadata": {},
   "outputs": [
    {
     "data": {
      "image/png": "[encoded data removed]",
      "text/latex": [
       "$\\displaystyle -\\infty$"
      ],
      "text/plain": [
       "-∞"
      ]
     },
     "execution_count": 49,
     "metadata": {},
     "output_type": "execute_result"
    }
   ],
   "source": [
    "sy.limit(1/x,x,0,'-')"
   ]
  },
  {
   "cell_type": "code",
   "execution_count": 50,
   "metadata": {},
   "outputs": [
    {
     "data": {
      "text/latex": [
       "$\\displaystyle \\text{NaN}$"
      ],
      "text/plain": [
       "nan"
      ]
     },
     "execution_count": 50,
     "metadata": {},
     "output_type": "execute_result"
    }
   ],
   "source": [
    "expr =x/2**x\n",
    "expr.subs(x,sy.oo)"
   ]
  },
  {
   "cell_type": "code",
   "execution_count": 51,
   "metadata": {},
   "outputs": [
    {
     "data": {
      "image/png": "[encoded data removed]",
      "text/latex": [
       "$\\displaystyle 0$"
      ],
      "text/plain": [
       "0"
      ]
     },
     "execution_count": 51,
     "metadata": {},
     "output_type": "execute_result"
    }
   ],
   "source": [
    "sy.limit(expr,x,sy.oo)"
   ]
  },
  {
   "cell_type": "code",
   "execution_count": 54,
   "metadata": {},
   "outputs": [
    {
     "data": {
      "image/png": "[encoded data removed]",
      "text/latex": [
       "$\\displaystyle \\frac{\\sqrt{\\pi} \\operatorname{erfi}{\\left(\\pi \\right)}}{2}$"
      ],
      "text/plain": [
       "√π⋅erfi(π)\n",
       "──────────\n",
       "    2     "
      ]
     },
     "execution_count": 54,
     "metadata": {},
     "output_type": "execute_result"
    }
   ],
   "source": [
    "x =sy.symbols('x')\n",
    "I =sy.Integral(sy.exp(x**2),(x,0,sy.pi))\n",
    "I.doit()"
   ]
  },
  {
   "cell_type": "code",
   "execution_count": 55,
   "metadata": {},
   "outputs": [
    {
     "data": {
      "image/png": "[encoded data removed]",
      "text/latex": [
       "$\\displaystyle 1162.85031639195$"
      ],
      "text/plain": [
       "1162.85031639195"
      ]
     },
     "execution_count": 55,
     "metadata": {},
     "output_type": "execute_result"
    }
   ],
   "source": [
    "I.as_sum(10,'left').evalf()"
   ]
  },
  {
   "cell_type": "code",
   "execution_count": 56,
   "metadata": {},
   "outputs": [],
   "source": [
    "t =sy.symbols('t')\n",
    "x =sy.Function('x')"
   ]
  },
  {
   "cell_type": "code",
   "execution_count": 58,
   "metadata": {},
   "outputs": [
    {
     "name": "stdout",
     "output_type": "stream",
     "text": [
      "x(t) - sin(t) - 2*Derivative(x(t), t) + Derivative(x(t), (t, 2))\n"
     ]
    }
   ],
   "source": [
    "ode =x(t).diff(t,2)-2*x(t).diff(t)+x(t)-sy.sin(t)\n",
    "print(ode)"
   ]
  },
  {
   "cell_type": "code",
   "execution_count": 59,
   "metadata": {},
   "outputs": [
    {
     "data": {
      "image/png": "[encoded data removed]",
      "text/latex": [
       "$\\displaystyle x{\\left(t \\right)} = \\left(C_{1} + C_{2} t\\right) e^{t} + \\frac{\\cos{\\left(t \\right)}}{2}$"
      ],
      "text/plain": [
       "                    t   cos(t)\n",
       "x(t) = (C₁ + C₂⋅t)⋅ℯ  + ──────\n",
       "                          2   "
      ]
     },
     "execution_count": 59,
     "metadata": {},
     "output_type": "execute_result"
    }
   ],
   "source": [
    "sy.dsolve(ode,x(t))"
   ]
  },
  {
   "cell_type": "code",
   "execution_count": 2,
   "metadata": {},
   "outputs": [
    {
     "data": {
      "text/plain": [
       "3.14159265358979323846264338328"
      ]
     },
     "execution_count": 2,
     "metadata": {},
     "output_type": "execute_result"
    }
   ],
   "source": [
    "from mpmath import *\n",
    "mp.dps =30\n",
    "mp.pretty =True\n",
    "findroot(sin,3)"
   ]
  },
  {
   "cell_type": "code",
   "execution_count": 3,
   "metadata": {},
   "outputs": [
    {
     "data": {
      "text/plain": [
       "(0.226698825758202 + 1.46771150871022j)"
      ]
     },
     "execution_count": 3,
     "metadata": {},
     "output_type": "execute_result"
    }
   ],
   "source": [
    "mp.dps =15\n",
    "findroot(lambda x:x**3+2*x+1,j)"
   ]
  },
  {
   "cell_type": "code",
   "execution_count": 4,
   "metadata": {},
   "outputs": [
    {
     "data": {
      "text/plain": [
       "(0.5 + 14.1347251417346937904572519836j)"
      ]
     },
     "execution_count": 4,
     "metadata": {},
     "output_type": "execute_result"
    }
   ],
   "source": [
    "mp.dps=30\n",
    "findroot(zeta,0.5+14j)"
   ]
  },
  {
   "cell_type": "code",
   "execution_count": 5,
   "metadata": {},
   "outputs": [
    {
     "data": {
      "text/plain": [
       "1.4616321449683623413"
      ]
     },
     "execution_count": 5,
     "metadata": {},
     "output_type": "execute_result"
    }
   ],
   "source": [
    "mp.dps =20\n",
    "findroot(lambda x: diff(gamma,x),1)"
   ]
  },
  {
   "cell_type": "code",
   "execution_count": 6,
   "metadata": {},
   "outputs": [
    {
     "data": {
      "text/plain": [
       "[-0.6180339887498948482]\n",
       "[-0.3819660112501051518]"
      ]
     },
     "execution_count": 6,
     "metadata": {},
     "output_type": "execute_result"
    }
   ],
   "source": [
    "def f(x1,x2):\n",
    "    return x1**2 +x2,5*x1**2-3*x1+2*x2-3\n",
    "findroot(f,(0,0))"
   ]
  },
  {
   "cell_type": "code",
   "execution_count": 7,
   "metadata": {},
   "outputs": [
    {
     "data": {
      "text/plain": [
       "0.91807354247759422561"
      ]
     },
     "execution_count": 7,
     "metadata": {},
     "output_type": "execute_result"
    }
   ],
   "source": [
    "f =lambda x:(x-1)**99\n",
    "findroot(f,0.9,verify=False)"
   ]
  },
  {
   "cell_type": "code",
   "execution_count": 8,
   "metadata": {},
   "outputs": [
    {
     "data": {
      "text/plain": [
       "1.0"
      ]
     },
     "execution_count": 8,
     "metadata": {},
     "output_type": "execute_result"
    }
   ],
   "source": [
    "findroot(f,-10,solver='mnewton')"
   ]
  },
  {
   "cell_type": "code",
   "execution_count": 9,
   "metadata": {},
   "outputs": [
    {
     "name": "stdout",
     "output_type": "stream",
     "text": [
      "x:     -9.8888888888888888888888889\n",
      "error: 0.11111111111111111111111111\n",
      "converging slowly\n",
      "x:     -9.7789001122334455667789001\n",
      "error: 0.10998877665544332210998877\n",
      "converging slowly\n",
      "x:     -9.6700223333219966216599213\n",
      "error: 0.10887777891144894511897879\n",
      "converging slowly\n",
      "accelerating convergence\n",
      "x:     -9.5622443299551077668956797\n",
      "error: 0.10777800336688885476424163\n",
      "converging slowly\n",
      "x:     0.99999999999999999999992804\n",
      "error: 10.562244329955107766895608\n",
      "x:     1.0\n",
      "error: 7.1959058737144783501191365e-23\n",
      "ZeroDivisionError: canceled with x = 1.0\n"
     ]
    },
    {
     "data": {
      "text/plain": [
       "1.0"
      ]
     },
     "execution_count": 9,
     "metadata": {},
     "output_type": "execute_result"
    }
   ],
   "source": [
    "findroot(f,-10,solver='anewton',verbose=True)"
   ]
  },
  {
   "cell_type": "code",
   "execution_count": 10,
   "metadata": {},
   "outputs": [
    {
     "data": {
      "text/plain": [
       "(0.72713608449119683998 + 0.93409928946052943964j)"
      ]
     },
     "execution_count": 10,
     "metadata": {},
     "output_type": "execute_result"
    }
   ],
   "source": [
    "findroot(lambda x:x**4+x+1,(0,1,2),solver='muller')"
   ]
  },
  {
   "cell_type": "code",
   "execution_count": 12,
   "metadata": {},
   "outputs": [
    {
     "data": {
      "text/plain": [
       "0.0"
      ]
     },
     "execution_count": 12,
     "metadata": {},
     "output_type": "execute_result"
    }
   ],
   "source": [
    "findroot(lambda x:x**3,(-1,1),solver='anderson')"
   ]
  },
  {
   "cell_type": "code",
   "execution_count": 14,
   "metadata": {},
   "outputs": [],
   "source": [
    "import numpy as np\n",
    "from scipy.optimize import minimize\n"
   ]
  },
  {
   "cell_type": "code",
   "execution_count": 15,
   "metadata": {},
   "outputs": [],
   "source": [
    "def rosen(x):\n",
    "    return sum(100.0*(x[1:]-x[:-1]**2.0)**2.0+(1-x[:-1])**2.0)\n",
    "x0  =np.array([1.3,0.7,0.8,1.9,1.2])"
   ]
  },
  {
   "cell_type": "code",
   "execution_count": 17,
   "metadata": {},
   "outputs": [
    {
     "name": "stdout",
     "output_type": "stream",
     "text": [
      "Optimization terminated successfully.\n",
      "         Current function value: 0.000000\n",
      "         Iterations: 339\n",
      "         Function evaluations: 571\n"
     ]
    }
   ],
   "source": [
    "res =minimize(rosen,x0,method='nelder-mead',options={'xtol':1e-8,'disp':True})"
   ]
  },
  {
   "cell_type": "code",
   "execution_count": 18,
   "metadata": {},
   "outputs": [
    {
     "name": "stdout",
     "output_type": "stream",
     "text": [
      "[1. 1. 1. 1. 1.]\n"
     ]
    }
   ],
   "source": [
    "print(res.x)"
   ]
  },
  {
   "cell_type": "code",
   "execution_count": 5,
   "metadata": {},
   "outputs": [
    {
     "name": "stdout",
     "output_type": "stream",
     "text": [
      "[5.43333333e+00 5.43333333e+00 3.57913941e+08]\n"
     ]
    }
   ],
   "source": [
    "import sympy as sy\n",
    "from scipy.optimize import minimize\n",
    "from sympy.utilities.lambdify import lambdify\n",
    "a ,b ,G =sy.symbols('a b G')\n",
    "func =-1*((G-a)**2+b)\n",
    "my_func =lambdify((G,a,b),func)\n",
    "\n",
    "def my_func_v(x):\n",
    "    return my_func(*tuple(x))\n",
    "results =minimize(my_func_v,[0.1,0.1,0.1])\n",
    "print(results.x)"
   ]
  },
  {
   "cell_type": "code",
   "execution_count": 9,
   "metadata": {},
   "outputs": [
    {
     "name": "stdout",
     "output_type": "stream",
     "text": [
      "[x0 x1 x2 x3 x4 x5 x6 x7 x8 x9]\n"
     ]
    }
   ],
   "source": [
    "import numpy as np\n",
    "NUM_VAR =10\n",
    "x =np.array(sy.symbols('x0:%d'%NUM_VAR))\n",
    "print(x)"
   ]
  },
  {
   "cell_type": "code",
   "execution_count": 10,
   "metadata": {},
   "outputs": [],
   "source": [
    "func =np.sum((x-1)**2)\n",
    "my_func = lambdify(x,func)\n",
    "def my_func_v(x):\n",
    "    return my_func(*tuple(x))\n",
    "results =minimize(my_func_v,np.zeros(NUM_VAR))"
   ]
  },
  {
   "cell_type": "code",
   "execution_count": 5,
   "metadata": {},
   "outputs": [],
   "source": [
    "import sympy as sy\n",
    "from scipy.optimize import minimize\n",
    "from sympy.utilities.lambdify import lambdify\n",
    "import numpy as np"
   ]
  },
  {
   "cell_type": "code",
   "execution_count": 6,
   "metadata": {},
   "outputs": [
    {
     "data": {
      "text/plain": [
       "'\\n  min 100(x1-x0^2)^2 +(1-x0)^2\\n  st.  x0 +2x1<=1\\n       x0^2+x1<=1\\n       x0^2-x1<=1\\n       2x0+x1 =1\\n       0<=x0<=1\\n       -0.5<=x1<=2.0\\n'"
      ]
     },
     "execution_count": 6,
     "metadata": {},
     "output_type": "execute_result"
    }
   ],
   "source": [
    "\"\"\"\n",
    "  min 100(x1-x0^2)^2 +(1-x0)^2\n",
    "  st.  x0 +2x1<=1\n",
    "       x0^2+x1<=1\n",
    "       x0^2-x1<=1\n",
    "       2x0+x1 =1\n",
    "       0<=x0<=1\n",
    "       -0.5<=x1<=2.0\n",
    "\"\"\""
   ]
  },
  {
   "cell_type": "code",
   "execution_count": 7,
   "metadata": {},
   "outputs": [],
   "source": [
    "from scipy.optimize import Bounds\n",
    "bounds =Bounds([0,-0.5],[1.0,2.0])"
   ]
  },
  {
   "cell_type": "code",
   "execution_count": 8,
   "metadata": {},
   "outputs": [],
   "source": [
    "from scipy.optimize import LinearConstraint\n",
    "linear_constraint =LinearConstraint([[1,2],[2,1]],[-np.inf,1],[1,1])"
   ]
  },
  {
   "cell_type": "code",
   "execution_count": 9,
   "metadata": {},
   "outputs": [],
   "source": [
    "def cons_f(x):\n",
    "    return [x[0]**2+x[1],x[0]**2-x[1]]\n",
    "def cons_J(x):\n",
    "    return [[2*x[0],1],[2*x[0],-1]]\n",
    "def cons_H(x,v):\n",
    "    return v[0]*np.array([[2,0],[0,0]])+v[1]*np.array([[2,0],[0,0]])"
   ]
  },
  {
   "cell_type": "code",
   "execution_count": 10,
   "metadata": {},
   "outputs": [],
   "source": [
    "from scipy.optimize import NonlinearConstraint\n",
    "nonlinear_constraint =NonlinearConstraint(cons_f,-np.inf,1,jac=cons_J,hess=cons_H)"
   ]
  },
  {
   "cell_type": "code",
   "execution_count": 15,
   "metadata": {},
   "outputs": [],
   "source": [
    "def rosen(x):\n",
    "    return sum(100.0*(x[1:]-x[:-1]**2.0)**2.0+(1-x[:-1])**2.0)\n",
    "\n",
    "def rosen_der(x):\n",
    "    xm =x[1:-1]\n",
    "    xm_m1=x[:-2]\n",
    "    xm_p1=x[2:]\n",
    "    der =np.zeros_like(x)\n",
    "    der[1:-1] =200*(xm-xm_m1**2)-400*(xm_p1-xm**2)*xm-2*(1-xm)\n",
    "    der[0] =-400*x[0]*(x[1]-x[0]**2)-2*(1-x[0])\n",
    "    der[-1] =200*(x[-1]-x[-2]**2)\n",
    "    return der\n",
    "\n",
    "def rosen_hess(x):\n",
    "    x =np.asarray(x)\n",
    "    H =np.diag(-400*x[:-1],1)-np.diag(400*x[:-1],-1)\n",
    "    diagonal =np.zeros_like(x)\n",
    "    diagonal[0] =1200*x[0]**2-400*x[1]+2\n",
    "    diagonal[-1] =200\n",
    "    diagonal[1:-1] =202+1200*x[1:-1]**2-400*x[2:]\n",
    "    H =H+np.diag(diagonal)\n",
    "    return H"
   ]
  },
  {
   "cell_type": "code",
   "execution_count": 16,
   "metadata": {},
   "outputs": [
    {
     "name": "stdout",
     "output_type": "stream",
     "text": [
      "`gtol` termination condition is satisfied.\n",
      "Number of iterations: 12, function evaluations: 8, CG iterations: 7, optimality: 2.99e-09, constraint violation: 0.00e+00, execution time: 0.071 s.\n"
     ]
    }
   ],
   "source": [
    "x0 =np.array([0.5,0])\n",
    "res =minimize(rosen,x0,method='trust-constr',jac=rosen_der,hess=rosen_hess,\n",
    "             constraints=[linear_constraint,nonlinear_constraint],\n",
    "             options={'verbose':1},bounds=bounds)"
   ]
  },
  {
   "cell_type": "code",
   "execution_count": 17,
   "metadata": {},
   "outputs": [],
   "source": [
    "res??"
   ]
  },
  {
   "cell_type": "code",
   "execution_count": null,
   "metadata": {},
   "outputs": [],
   "source": []
  }
 ],
 "metadata": {
  "kernelspec": {
   "display_name": "Python 3",
   "language": "python",
   "name": "python3"
  },
  "language_info": {
   "codemirror_mode": {
    "name": "ipython",
    "version": 3
   },
   "file_extension": ".py",
   "mimetype": "text/x-python",
   "name": "python",
   "nbconvert_exporter": "python",
   "pygments_lexer": "ipython3",
   "version": "3.6.9"
  }
 },
 "nbformat": 4,
 "nbformat_minor": 2
}
