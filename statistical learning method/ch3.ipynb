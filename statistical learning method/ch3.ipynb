{
 "cells": [
  {
   "cell_type": "code",
   "execution_count": 2,
   "metadata": {},
   "outputs": [
    {
     "data": {
      "text/plain": [
       "'\\nkdTree KNN\\n'"
      ]
     },
     "execution_count": 2,
     "metadata": {},
     "output_type": "execute_result"
    }
   ],
   "source": [
    "\"\"\"\n",
    "kdTree KNN\n",
    "\"\"\""
   ]
  },
  {
   "cell_type": "code",
   "execution_count": 4,
   "metadata": {},
   "outputs": [],
   "source": [
    "%matplotlib inline\n",
    "import numpy as np\n",
    "import matplotlib.pyplot as plt\n"
   ]
  },
  {
   "cell_type": "code",
   "execution_count": 16,
   "metadata": {},
   "outputs": [],
   "source": [
    "class Node(object):\n",
    "    def __init__(self,x_data=None,y_data=None,val=None,left=None,right=None,p=None,depth=0,visited=0):\n",
    "        self.x_data =x_data\n",
    "        self.y_data =y_data\n",
    "        self.val =val\n",
    "        self.left =left\n",
    "        self.right =right\n",
    "        self.p=p\n",
    "        self.depth =depth\n",
    "        self.visited =0\n",
    "    \n",
    "    "
   ]
  },
  {
   "cell_type": "code",
   "execution_count": 72,
   "metadata": {},
   "outputs": [],
   "source": [
    "class kdTree(object):\n",
    "    \n",
    "    def __init__(self,head=None):\n",
    "        self.head =head\n",
    "    \n",
    " \n",
    "\n",
    "   \n",
    "        "
   ]
  },
  {
   "cell_type": "code",
   "execution_count": null,
   "metadata": {},
   "outputs": [],
   "source": []
  },
  {
   "cell_type": "code",
   "execution_count": 212,
   "metadata": {},
   "outputs": [],
   "source": [
    "def build_tree(father,x_data,y_data,depth):\n",
    "        if(len(x_data)==0):\n",
    "            return None\n",
    "        [n,p]=x_data.shape\n",
    "        index = depth%p\n",
    "        args =np.zeros((n,1))\n",
    "        args =np.argsort(x_data[:,index])\n",
    "        args =np.array(args,dtype=int)\n",
    "        #print(args[int(n/2)])\n",
    "        median =x_data[args[int(n/2)],index]\n",
    "        node_x =x_data[args[int(n/2)]]\n",
    "        node_y =y_data\n",
    "        left_x =x_data[args[0:int(n/2)]]\n",
    "        left_y =y_data[args[0:int(n/2)]]\n",
    "        right_x =x_data[args[int(n/2)+1:]]\n",
    "        right_y =y_data[args[int(n/2)+1:]]\n",
    "        #print('depth ',depth)\n",
    "        #print('x_data ',x_data)\n",
    "        #print('median ',median)\n",
    "        root =Node(x_data=node_x,y_data=node_y,val=median,p=father,depth=depth)\n",
    "        root.left =build_tree(root,left_x,left_y,depth+1)\n",
    "        root.right =build_tree(root,right_x,right_y,depth+1)\n",
    "        return root\n",
    "\n",
    "def pre_order(root):\n",
    "    if(root==None):\n",
    "        return\n",
    "    pre_order(root.left)\n",
    "    print(\" \",root.x_data)\n",
    "    root.visited=0\n",
    "    pre_order(root.right)\n",
    "\n",
    "def find(root,key):\n",
    "    if(root==None):\n",
    "        return None\n",
    "    if(root.left==None and root.right==None):\n",
    "        return root\n",
    "    p =root.x_data.shape[0]\n",
    "    depth =0\n",
    "    cur =None\n",
    "    while(root!=None):\n",
    "        cur =root\n",
    "        if((key[depth%p]<root.val)):\n",
    "            root =root.left\n",
    "        else:\n",
    "            root =root.right\n",
    "        depth =depth+1\n",
    "    return cur\n",
    "    \n",
    "    \n",
    "\n",
    "def query(head,key,k=1):\n",
    "    if(head==None):\n",
    "        return None\n",
    "    if(head.left==None and head.right==None):\n",
    "        return head\n",
    "    p =len(key)\n",
    "    pos =find(head,key)\n",
    "    item =pos\n",
    "    #print('pos ',pos.x_data)\n",
    "    r =np.sqrt(np.sum(np.square(item.x_data -key)))\n",
    "    counts =0\n",
    "    while(pos.p!=None):\n",
    "        #print('pos.p ',pos.p.x_data)\n",
    "        #print('pos',pos.x_data)\n",
    "        dist =np.sqrt(np.sum(np.square(key-pos.p.x_data)))\n",
    "        pos.p.visited=1\n",
    "        if(dist<r):\n",
    "            r =dist\n",
    "            item =pos.p\n",
    "        if(pos==pos.p.left and pos.p.right!=None and pos.p.right.visited==0 and (key[pos.p.depth%p]+r)>pos.p.val):\n",
    "            right =query(pos.p.right,key,k)\n",
    "            right.visited=1\n",
    "            dist =np.sqrt(np.sum(np.square(key-right.x_data)))\n",
    "            if(dist<r):\n",
    "                r =dist\n",
    "                item =right\n",
    "        elif(pos==pos.p.right and pos.p.left!=None and pos.p.left.visited==0 and (key[pos.p.depth]-r)<pos.p.val):\n",
    "            left =query(pos.p.left,key,k)\n",
    "            dist =np.sqrt(np.sum(np.square(key-left.x_data)))\n",
    "            left.visited=1\n",
    "            if(dist<r):\n",
    "                r =dist\n",
    "                item =left\n",
    "        pos =pos.p\n",
    "    return item"
   ]
  },
  {
   "cell_type": "code",
   "execution_count": 214,
   "metadata": {},
   "outputs": [
    {
     "name": "stdout",
     "output_type": "stream",
     "text": [
      "inorder walk\n",
      "  [2 3]\n",
      "  [5 4]\n",
      "  [4 7]\n",
      "  [7 2]\n",
      "  [8 1]\n",
      "  [9 6]\n",
      "[2 3]\n"
     ]
    }
   ],
   "source": [
    "X_train =np.array([[2,3],[5,4],[9,6],[4,7],[8,1],[7,2]])\n",
    "y_train =np.array([1,0,0,1,0,1])\n",
    "head =Node()\n",
    "tree =kdTree(head)\n",
    "head =build_tree(father=head,x_data=X_train,y_data=y_train,depth=0)\n",
    "head.p =None\n",
    "print('inorder walk')\n",
    "pre_order(head)\n",
    "\n",
    "X_train[0].shape\n",
    "print(query(head,[-2,6],1).x_data)"
   ]
  },
  {
   "cell_type": "code",
   "execution_count": 208,
   "metadata": {},
   "outputs": [],
   "source": [
    "import sys"
   ]
  },
  {
   "cell_type": "code",
   "execution_count": null,
   "metadata": {},
   "outputs": [],
   "source": []
  }
 ],
 "metadata": {
  "kernelspec": {
   "display_name": "Python 3",
   "language": "python",
   "name": "python3"
  },
  "language_info": {
   "codemirror_mode": {
    "name": "ipython",
    "version": 3
   },
   "file_extension": ".py",
   "mimetype": "text/x-python",
   "name": "python",
   "nbconvert_exporter": "python",
   "pygments_lexer": "ipython3",
   "version": "3.6.9"
  }
 },
 "nbformat": 4,
 "nbformat_minor": 2
}
