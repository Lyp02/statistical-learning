{
 "cells": [
  {
   "cell_type": "code",
   "execution_count": 1,
   "metadata": {},
   "outputs": [
    {
     "data": {
      "text/plain": [
       "'\\nEM GMM\\n'"
      ]
     },
     "execution_count": 1,
     "metadata": {},
     "output_type": "execute_result"
    }
   ],
   "source": [
    "\"\"\"\n",
    "EM GMM\n",
    "\"\"\""
   ]
  },
  {
   "cell_type": "code",
   "execution_count": 23,
   "metadata": {},
   "outputs": [],
   "source": [
    "%matplotlib inline\n",
    "import matplotlib.pyplot as plt\n",
    "import numpy as np\n",
    "import sympy as sy\n",
    "from scipy.stats import multivariate_normal"
   ]
  },
  {
   "cell_type": "code",
   "execution_count": 201,
   "metadata": {},
   "outputs": [
    {
     "data": {
      "text/plain": [
       "array([[8., 0.],\n",
       "       [0., 1.]])"
      ]
     },
     "execution_count": 201,
     "metadata": {},
     "output_type": "execute_result"
    }
   ],
   "source": [
    "mean =np.array([[30,5],[5,30]],dtype=float)\n",
    "cov  =np.array([[[0.4,0],[0,0.8]],[[8,0],[0,1]]],dtype=float)\n",
    "cov[1]"
   ]
  },
  {
   "cell_type": "code",
   "execution_count": 204,
   "metadata": {},
   "outputs": [],
   "source": [
    "\n",
    "data =np.zeros((100,2),dtype=float)\n",
    "for i in range(100):\n",
    "    index =np.random.randint(0,2)\n",
    "    data[i,:]=np.random.multivariate_normal(mean[index],cov[index],1)"
   ]
  },
  {
   "cell_type": "code",
   "execution_count": 215,
   "metadata": {},
   "outputs": [],
   "source": [
    "def GMM(data,k=2):\n",
    "    [n,p]=data.shape\n",
    "    gamma =np.random.normal(0,1,(n,k))\n",
    "    mean =np.random.normal(0,1,(k,p))\n",
    "    cov =np.random.normal(0,1,(k,p,p))\n",
    "\n",
    "    a   =(1.0/k)*np.ones((k,1),dtype=float)\n",
    "    res =np.zeros((n,k),dtype=float)\n",
    "    for i in range(n):\n",
    "        for j in range(k):\n",
    "            res[i,j] =a[j,0]*multivariate_normal.pdf(data[i,:],mean=mean[j,:],cov=np.eye(2))\n",
    "    \n",
    "    \n",
    "    res = np.multiply(res,(1.0/np.sum(res,axis=1)[:,np.newaxis]))\n",
    "    \n",
    "    gamma =res\n",
    "    maxpass =10000\n",
    "    steps =0\n",
    "    \n",
    "    mean[0]=gamma[:,0][:,np.newaxis].T.dot(data) / np.sum(gamma[:,0])\n",
    "    cov[0] =gamma[:,0][:,np.newaxis].T.dot(np.square(data-mean[0]))\n",
    "    a[0,0]= np.sum(gamma[:,0])/n\n",
    "   \n",
    "    gamma_last =np.zeros_like(gamma)\n",
    "    while(steps<maxpass and np.linalg.norm(gamma-gamma_last)>1e-4):\n",
    "        steps  =steps+1\n",
    "        gamma_last =gamma\n",
    "        for j in range(k):\n",
    "            mean[j]=gamma[:,j][:,np.newaxis].T.dot(data) / np.sum(gamma[:,j])\n",
    "            cov[j] = np.multiply(gamma[:,j][:,np.newaxis],(data-mean[j][np.newaxis,:])).T.dot((data-mean[j][np.newaxis,:]))\\\n",
    "            / np.sum(gamma[:,j])\n",
    "            #print('cov')\n",
    "            #print(cov[j])\n",
    "            a[j,0]= np.sum(gamma[:,j])/n\n",
    "        #print('cov')\n",
    "        #print(cov)\n",
    "        for i in range(n):\n",
    "            for j in range(k):\n",
    "                gamma[i,j] =a[j,0]*multivariate_normal.pdf(data[i,:],mean=mean[j,:],cov=cov[j]+1e-7*np.eye(p))\n",
    "        gamma =np.multiply(gamma,(1.0/np.sum(gamma,axis=1)[:,np.newaxis]))\n",
    "    \n",
    "    return [a,mean,cov]\n",
    "        \n",
    "        \n",
    "\n",
    "            \n",
    "            \n",
    "            \n",
    "            \n",
    "  \n",
    "\n",
    "            \n",
    "    "
   ]
  },
  {
   "cell_type": "code",
   "execution_count": 216,
   "metadata": {},
   "outputs": [
    {
     "name": "stdout",
     "output_type": "stream",
     "text": [
      "a  [[0.47]\n",
      " [0.53]]\n",
      "mean  [[30.03662723  4.86654988]\n",
      " [ 5.06722253 29.90095125]]\n",
      "cov  [[[ 0.47887066 -0.09288308]\n",
      "  [-0.09288308  0.73777426]]\n",
      "\n",
      " [[ 7.95173897 -0.26515207]\n",
      "  [-0.26515207  0.76863232]]]\n"
     ]
    }
   ],
   "source": [
    "res =GMM(data,k=2)\n",
    "print('a ',res[0])\n",
    "print('mean ',res[1])\n",
    "print('cov ',res[2])"
   ]
  },
  {
   "cell_type": "code",
   "execution_count": null,
   "metadata": {},
   "outputs": [],
   "source": []
  }
 ],
 "metadata": {
  "kernelspec": {
   "display_name": "Python 3",
   "language": "python",
   "name": "python3"
  },
  "language_info": {
   "codemirror_mode": {
    "name": "ipython",
    "version": 3
   },
   "file_extension": ".py",
   "mimetype": "text/x-python",
   "name": "python",
   "nbconvert_exporter": "python",
   "pygments_lexer": "ipython3",
   "version": "3.6.9"
  }
 },
 "nbformat": 4,
 "nbformat_minor": 2
}
