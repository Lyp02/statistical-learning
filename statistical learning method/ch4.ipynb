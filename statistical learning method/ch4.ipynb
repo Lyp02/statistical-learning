{
 "cells": [
  {
   "cell_type": "code",
   "execution_count": 1,
   "metadata": {},
   "outputs": [
    {
     "data": {
      "text/plain": [
       "'\\nNaive Bayes\\n'"
      ]
     },
     "execution_count": 1,
     "metadata": {},
     "output_type": "execute_result"
    }
   ],
   "source": [
    "\"\"\"\n",
    "Naive Bayes\n",
    "\"\"\""
   ]
  },
  {
   "cell_type": "code",
   "execution_count": 2,
   "metadata": {},
   "outputs": [],
   "source": [
    "%matplotlib inline\n",
    "import numpy as np\n",
    "import matplotlib.pyplot as plt"
   ]
  },
  {
   "cell_type": "code",
   "execution_count": 11,
   "metadata": {},
   "outputs": [],
   "source": [
    "X_train =np.array([[1,-1],[1,0],[1,0],[1,-1],[1,-1],[2,-1],[2,0],[2,0],[2,1],[2,1],[3,1],[3,0],[3,0],[3,1],[3,1]],dtype='float')\n",
    "y_train =np.array([[-1],[-1],[1],[1],[-1],[-1],[-1],[1],[1],[1],[1],[1],[1],[1],[-1]])"
   ]
  },
  {
   "cell_type": "code",
   "execution_count": 16,
   "metadata": {},
   "outputs": [
    {
     "name": "stdout",
     "output_type": "stream",
     "text": [
      "(15, 1)\n"
     ]
    }
   ],
   "source": [
    "X_test =np.array([2,-1],dtype='float')\n",
    "print(y_train.shape)"
   ]
  },
  {
   "cell_type": "code",
   "execution_count": 315,
   "metadata": {},
   "outputs": [],
   "source": [
    "def NaiveBayes(X,y,X_train,smooth):\n",
    "    [n,p] =X.shape\n",
    "    data =np.concatenate([X,y],axis=1)\n",
    "    labels =np.unique(y)\n",
    "    features =[]\n",
    "    py=np.zeros((len(labels),),dtype='float')\n",
    "    pxy =[]\n",
    "    for i in range(p):\n",
    "        temp =np.unique(X[:,i])\n",
    "        features.append(temp)\n",
    "        pxy.append(np.zeros((len(temp),len(labels)),dtype='float'))\n",
    "    for i in range(n):\n",
    "        py[np.where(labels==data[i,-1])[0][0]] +=1\n",
    "        for j in range(p):\n",
    "            pxy[j][np.where(features[j]==data[i,j])[0][0]][np.where(labels==data[i,-1])[0][0]] +=1\n",
    "    probs =np.ones((len(labels),),dtype='float')\n",
    "    for i in range(len(labels)):\n",
    "        probs[i] =py[i]\n",
    "        for j in range(p):\n",
    "            probs[i] =probs[i]*pxy[j][np.where(features[j]==X_train[j])[0][0]][i]\n",
    "    return labels[np.argmax(probs)]"
   ]
  },
  {
   "cell_type": "code",
   "execution_count": 316,
   "metadata": {},
   "outputs": [
    {
     "data": {
      "text/plain": [
       "-1"
      ]
     },
     "execution_count": 316,
     "metadata": {},
     "output_type": "execute_result"
    }
   ],
   "source": [
    "X_test =np.array([2,-1],dtype='float')\n",
    "NaiveBayes(X_train,y_train,X_test,smooth=0)\n"
   ]
  },
  {
   "cell_type": "code",
   "execution_count": null,
   "metadata": {},
   "outputs": [],
   "source": []
  },
  {
   "cell_type": "code",
   "execution_count": null,
   "metadata": {},
   "outputs": [],
   "source": []
  },
  {
   "cell_type": "code",
   "execution_count": null,
   "metadata": {},
   "outputs": [],
   "source": []
  },
  {
   "cell_type": "code",
   "execution_count": null,
   "metadata": {},
   "outputs": [],
   "source": []
  }
 ],
 "metadata": {
  "kernelspec": {
   "display_name": "Python 3",
   "language": "python",
   "name": "python3"
  },
  "language_info": {
   "codemirror_mode": {
    "name": "ipython",
    "version": 3
   },
   "file_extension": ".py",
   "mimetype": "text/x-python",
   "name": "python",
   "nbconvert_exporter": "python",
   "pygments_lexer": "ipython3",
   "version": "3.6.9"
  }
 },
 "nbformat": 4,
 "nbformat_minor": 2
}
